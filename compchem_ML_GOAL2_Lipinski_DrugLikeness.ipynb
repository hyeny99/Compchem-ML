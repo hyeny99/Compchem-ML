{
 "cells": [
  {
   "cell_type": "markdown",
   "id": "295dfefb",
   "metadata": {},
   "source": [
    "<h1>GOAL 2: From Lipinski Features, Predict Drug-likeness</h1>"
   ]
  },
  {
   "cell_type": "code",
   "execution_count": 1,
   "id": "0955092f",
   "metadata": {},
   "outputs": [],
   "source": [
    "import pandas as pd\n",
    "import numpy as np"
   ]
  },
  {
   "cell_type": "code",
   "execution_count": 2,
   "id": "f0e4a6c6",
   "metadata": {},
   "outputs": [
    {
     "data": {
      "text/html": [
       "<div>\n",
       "<style scoped>\n",
       "    .dataframe tbody tr th:only-of-type {\n",
       "        vertical-align: middle;\n",
       "    }\n",
       "\n",
       "    .dataframe tbody tr th {\n",
       "        vertical-align: top;\n",
       "    }\n",
       "\n",
       "    .dataframe thead th {\n",
       "        text-align: right;\n",
       "    }\n",
       "</style>\n",
       "<table border=\"1\" class=\"dataframe\">\n",
       "  <thead>\n",
       "    <tr style=\"text-align: right;\">\n",
       "      <th></th>\n",
       "      <th>molecule_chembl_id</th>\n",
       "      <th>canonical_smiles</th>\n",
       "      <th>standard_value</th>\n",
       "      <th>class</th>\n",
       "    </tr>\n",
       "  </thead>\n",
       "  <tbody>\n",
       "    <tr>\n",
       "      <th>0</th>\n",
       "      <td>CHEMBL133897</td>\n",
       "      <td>CCOc1nn(-c2cccc(OCc3ccccc3)c2)c(=O)o1</td>\n",
       "      <td>750.0</td>\n",
       "      <td>active</td>\n",
       "    </tr>\n",
       "    <tr>\n",
       "      <th>1</th>\n",
       "      <td>CHEMBL336398</td>\n",
       "      <td>O=C(N1CCCCC1)n1nc(-c2ccc(Cl)cc2)nc1SCC1CC1</td>\n",
       "      <td>100.0</td>\n",
       "      <td>active</td>\n",
       "    </tr>\n",
       "    <tr>\n",
       "      <th>2</th>\n",
       "      <td>CHEMBL131588</td>\n",
       "      <td>CN(C(=O)n1nc(-c2ccc(Cl)cc2)nc1SCC(F)(F)F)c1ccccc1</td>\n",
       "      <td>50000.0</td>\n",
       "      <td>inactive</td>\n",
       "    </tr>\n",
       "    <tr>\n",
       "      <th>3</th>\n",
       "      <td>CHEMBL130628</td>\n",
       "      <td>O=C(N1CCCCC1)n1nc(-c2ccc(Cl)cc2)nc1SCC(F)(F)F</td>\n",
       "      <td>300.0</td>\n",
       "      <td>active</td>\n",
       "    </tr>\n",
       "    <tr>\n",
       "      <th>4</th>\n",
       "      <td>CHEMBL130478</td>\n",
       "      <td>CSc1nc(-c2ccc(OC(F)(F)F)cc2)nn1C(=O)N(C)C</td>\n",
       "      <td>800.0</td>\n",
       "      <td>active</td>\n",
       "    </tr>\n",
       "    <tr>\n",
       "      <th>...</th>\n",
       "      <td>...</td>\n",
       "      <td>...</td>\n",
       "      <td>...</td>\n",
       "      <td>...</td>\n",
       "    </tr>\n",
       "    <tr>\n",
       "      <th>4690</th>\n",
       "      <td>CHEMBL4293155</td>\n",
       "      <td>CC(C)(C)c1cc(/C=C/C(=O)NCCC2CCN(Cc3ccccc3Cl)CC...</td>\n",
       "      <td>2440.0</td>\n",
       "      <td>intermediate</td>\n",
       "    </tr>\n",
       "    <tr>\n",
       "      <th>4691</th>\n",
       "      <td>CHEMBL4282558</td>\n",
       "      <td>CC(C)(C)c1cc(/C=C/C(=O)NCCC2CCN(Cc3cccc(Cl)c3)...</td>\n",
       "      <td>2540.0</td>\n",
       "      <td>intermediate</td>\n",
       "    </tr>\n",
       "    <tr>\n",
       "      <th>4692</th>\n",
       "      <td>CHEMBL4281727</td>\n",
       "      <td>CC(C)(C)c1cc(/C=C/C(=O)NCCC2CCN(Cc3ccc(Br)cc3)...</td>\n",
       "      <td>3810.0</td>\n",
       "      <td>intermediate</td>\n",
       "    </tr>\n",
       "    <tr>\n",
       "      <th>4693</th>\n",
       "      <td>CHEMBL4292349</td>\n",
       "      <td>CC(C)(C)c1cc(/C=C/C(=O)NCCC2CCN(Cc3cccc([N+](=...</td>\n",
       "      <td>3460.0</td>\n",
       "      <td>intermediate</td>\n",
       "    </tr>\n",
       "    <tr>\n",
       "      <th>4694</th>\n",
       "      <td>CHEMBL4278260</td>\n",
       "      <td>CC(C)(C)c1cc(/C=C/C(=O)NCCC2CCN(Cc3ccc(C#N)cc3...</td>\n",
       "      <td>2780.0</td>\n",
       "      <td>intermediate</td>\n",
       "    </tr>\n",
       "  </tbody>\n",
       "</table>\n",
       "<p>4695 rows × 4 columns</p>\n",
       "</div>"
      ],
      "text/plain": [
       "     molecule_chembl_id                                   canonical_smiles  \\\n",
       "0          CHEMBL133897              CCOc1nn(-c2cccc(OCc3ccccc3)c2)c(=O)o1   \n",
       "1          CHEMBL336398         O=C(N1CCCCC1)n1nc(-c2ccc(Cl)cc2)nc1SCC1CC1   \n",
       "2          CHEMBL131588  CN(C(=O)n1nc(-c2ccc(Cl)cc2)nc1SCC(F)(F)F)c1ccccc1   \n",
       "3          CHEMBL130628      O=C(N1CCCCC1)n1nc(-c2ccc(Cl)cc2)nc1SCC(F)(F)F   \n",
       "4          CHEMBL130478          CSc1nc(-c2ccc(OC(F)(F)F)cc2)nn1C(=O)N(C)C   \n",
       "...                 ...                                                ...   \n",
       "4690      CHEMBL4293155  CC(C)(C)c1cc(/C=C/C(=O)NCCC2CCN(Cc3ccccc3Cl)CC...   \n",
       "4691      CHEMBL4282558  CC(C)(C)c1cc(/C=C/C(=O)NCCC2CCN(Cc3cccc(Cl)c3)...   \n",
       "4692      CHEMBL4281727  CC(C)(C)c1cc(/C=C/C(=O)NCCC2CCN(Cc3ccc(Br)cc3)...   \n",
       "4693      CHEMBL4292349  CC(C)(C)c1cc(/C=C/C(=O)NCCC2CCN(Cc3cccc([N+](=...   \n",
       "4694      CHEMBL4278260  CC(C)(C)c1cc(/C=C/C(=O)NCCC2CCN(Cc3ccc(C#N)cc3...   \n",
       "\n",
       "      standard_value         class  \n",
       "0              750.0        active  \n",
       "1              100.0        active  \n",
       "2            50000.0      inactive  \n",
       "3              300.0        active  \n",
       "4              800.0        active  \n",
       "...              ...           ...  \n",
       "4690          2440.0  intermediate  \n",
       "4691          2540.0  intermediate  \n",
       "4692          3810.0  intermediate  \n",
       "4693          3460.0  intermediate  \n",
       "4694          2780.0  intermediate  \n",
       "\n",
       "[4695 rows x 4 columns]"
      ]
     },
     "execution_count": 2,
     "metadata": {},
     "output_type": "execute_result"
    }
   ],
   "source": [
    "df = pd.read_csv('acetylcholinesterase_03_bioactivity_data_curated.csv')\n",
    "df"
   ]
  },
  {
   "cell_type": "code",
   "execution_count": 3,
   "id": "ab0fd756",
   "metadata": {},
   "outputs": [],
   "source": [
    "from rdkit import Chem\n",
    "from rdkit.Chem import Descriptors, Lipinski"
   ]
  },
  {
   "cell_type": "markdown",
   "id": "da863f6f",
   "metadata": {},
   "source": [
    "<h2>Adding Features</h2>"
   ]
  },
  {
   "cell_type": "markdown",
   "id": "94f4db4b",
   "metadata": {},
   "source": [
    "RDKit has Lipinski module which provides descriptor method."
   ]
  },
  {
   "attachments": {
    "image.png": {
     "image/png": "[encoded data removed]"
    }
   },
   "cell_type": "markdown",
   "id": "fcca4b29",
   "metadata": {},
   "source": [
    "<div>\n",
    "    <img src=\"attachment:image.png\" width=\"500\"/>\n",
    "</div>"
   ]
  },
  {
   "cell_type": "code",
   "execution_count": 4,
   "id": "35b1b850",
   "metadata": {},
   "outputs": [],
   "source": [
    "# Inspired by: https://codeocean.com/explore/capsules?query=tag:data-curation\n",
    "# function for getting lipinski descriptors\n",
    "\n",
    "def lipinski(smiles, verbose=False):\n",
    "\n",
    "    moldata= []\n",
    "    for elem in smiles:\n",
    "        mol=Chem.MolFromSmiles(elem) \n",
    "        moldata.append(mol)\n",
    "       \n",
    "    baseData= np.arange(1,1)\n",
    "    i=0  \n",
    "    for mol in moldata:        \n",
    "       \n",
    "        desc_MolWt = Descriptors.MolWt(mol)\n",
    "        desc_MolLogP = Descriptors.MolLogP(mol)\n",
    "        desc_NumHDonors = Lipinski.NumHDonors(mol)\n",
    "        desc_NumHAcceptors = Lipinski.NumHAcceptors(mol)\n",
    "           \n",
    "        row = np.array([desc_MolWt,\n",
    "                        desc_MolLogP,\n",
    "                        desc_NumHDonors,\n",
    "                        desc_NumHAcceptors])   \n",
    "    \n",
    "        if(i==0):\n",
    "            baseData=row\n",
    "        else:\n",
    "            baseData=np.vstack([baseData, row])\n",
    "        i=i+1      \n",
    "    \n",
    "    columnNames=[\"MW\",\"LogP\",\"NumHDonors\",\"NumHAcceptors\"]   \n",
    "    descriptors = pd.DataFrame(data=baseData,columns=columnNames)\n",
    "    \n",
    "    return descriptors"
   ]
  },
  {
   "cell_type": "code",
   "execution_count": 5,
   "id": "9dcff2e9",
   "metadata": {},
   "outputs": [
    {
     "data": {
      "text/html": [
       "<div>\n",
       "<style scoped>\n",
       "    .dataframe tbody tr th:only-of-type {\n",
       "        vertical-align: middle;\n",
       "    }\n",
       "\n",
       "    .dataframe tbody tr th {\n",
       "        vertical-align: top;\n",
       "    }\n",
       "\n",
       "    .dataframe thead th {\n",
       "        text-align: right;\n",
       "    }\n",
       "</style>\n",
       "<table border=\"1\" class=\"dataframe\">\n",
       "  <thead>\n",
       "    <tr style=\"text-align: right;\">\n",
       "      <th></th>\n",
       "      <th>MW</th>\n",
       "      <th>LogP</th>\n",
       "      <th>NumHDonors</th>\n",
       "      <th>NumHAcceptors</th>\n",
       "    </tr>\n",
       "  </thead>\n",
       "  <tbody>\n",
       "    <tr>\n",
       "      <th>0</th>\n",
       "      <td>312.325</td>\n",
       "      <td>2.80320</td>\n",
       "      <td>0.0</td>\n",
       "      <td>6.0</td>\n",
       "    </tr>\n",
       "    <tr>\n",
       "      <th>1</th>\n",
       "      <td>376.913</td>\n",
       "      <td>4.55460</td>\n",
       "      <td>0.0</td>\n",
       "      <td>5.0</td>\n",
       "    </tr>\n",
       "    <tr>\n",
       "      <th>2</th>\n",
       "      <td>426.851</td>\n",
       "      <td>5.35740</td>\n",
       "      <td>0.0</td>\n",
       "      <td>5.0</td>\n",
       "    </tr>\n",
       "    <tr>\n",
       "      <th>3</th>\n",
       "      <td>404.845</td>\n",
       "      <td>4.70690</td>\n",
       "      <td>0.0</td>\n",
       "      <td>5.0</td>\n",
       "    </tr>\n",
       "    <tr>\n",
       "      <th>4</th>\n",
       "      <td>346.334</td>\n",
       "      <td>3.09530</td>\n",
       "      <td>0.0</td>\n",
       "      <td>6.0</td>\n",
       "    </tr>\n",
       "    <tr>\n",
       "      <th>...</th>\n",
       "      <td>...</td>\n",
       "      <td>...</td>\n",
       "      <td>...</td>\n",
       "      <td>...</td>\n",
       "    </tr>\n",
       "    <tr>\n",
       "      <th>4690</th>\n",
       "      <td>511.150</td>\n",
       "      <td>7.07230</td>\n",
       "      <td>2.0</td>\n",
       "      <td>3.0</td>\n",
       "    </tr>\n",
       "    <tr>\n",
       "      <th>4691</th>\n",
       "      <td>511.150</td>\n",
       "      <td>7.07230</td>\n",
       "      <td>2.0</td>\n",
       "      <td>3.0</td>\n",
       "    </tr>\n",
       "    <tr>\n",
       "      <th>4692</th>\n",
       "      <td>555.601</td>\n",
       "      <td>7.18140</td>\n",
       "      <td>2.0</td>\n",
       "      <td>3.0</td>\n",
       "    </tr>\n",
       "    <tr>\n",
       "      <th>4693</th>\n",
       "      <td>521.702</td>\n",
       "      <td>6.32710</td>\n",
       "      <td>2.0</td>\n",
       "      <td>5.0</td>\n",
       "    </tr>\n",
       "    <tr>\n",
       "      <th>4694</th>\n",
       "      <td>501.715</td>\n",
       "      <td>6.29058</td>\n",
       "      <td>2.0</td>\n",
       "      <td>4.0</td>\n",
       "    </tr>\n",
       "  </tbody>\n",
       "</table>\n",
       "<p>4695 rows × 4 columns</p>\n",
       "</div>"
      ],
      "text/plain": [
       "           MW     LogP  NumHDonors  NumHAcceptors\n",
       "0     312.325  2.80320         0.0            6.0\n",
       "1     376.913  4.55460         0.0            5.0\n",
       "2     426.851  5.35740         0.0            5.0\n",
       "3     404.845  4.70690         0.0            5.0\n",
       "4     346.334  3.09530         0.0            6.0\n",
       "...       ...      ...         ...            ...\n",
       "4690  511.150  7.07230         2.0            3.0\n",
       "4691  511.150  7.07230         2.0            3.0\n",
       "4692  555.601  7.18140         2.0            3.0\n",
       "4693  521.702  6.32710         2.0            5.0\n",
       "4694  501.715  6.29058         2.0            4.0\n",
       "\n",
       "[4695 rows x 4 columns]"
      ]
     },
     "execution_count": 5,
     "metadata": {},
     "output_type": "execute_result"
    }
   ],
   "source": [
    "df_lipinski = lipinski(df.canonical_smiles)\n",
    "df_lipinski"
   ]
  },
  {
   "cell_type": "code",
   "execution_count": 6,
   "id": "d944f77d",
   "metadata": {},
   "outputs": [
    {
     "data": {
      "text/html": [
       "<div>\n",
       "<style scoped>\n",
       "    .dataframe tbody tr th:only-of-type {\n",
       "        vertical-align: middle;\n",
       "    }\n",
       "\n",
       "    .dataframe tbody tr th {\n",
       "        vertical-align: top;\n",
       "    }\n",
       "\n",
       "    .dataframe thead th {\n",
       "        text-align: right;\n",
       "    }\n",
       "</style>\n",
       "<table border=\"1\" class=\"dataframe\">\n",
       "  <thead>\n",
       "    <tr style=\"text-align: right;\">\n",
       "      <th></th>\n",
       "      <th>molecule_chembl_id</th>\n",
       "      <th>canonical_smiles</th>\n",
       "      <th>standard_value</th>\n",
       "      <th>class</th>\n",
       "      <th>MW</th>\n",
       "      <th>LogP</th>\n",
       "      <th>NumHDonors</th>\n",
       "      <th>NumHAcceptors</th>\n",
       "    </tr>\n",
       "  </thead>\n",
       "  <tbody>\n",
       "    <tr>\n",
       "      <th>0</th>\n",
       "      <td>CHEMBL133897</td>\n",
       "      <td>CCOc1nn(-c2cccc(OCc3ccccc3)c2)c(=O)o1</td>\n",
       "      <td>750.0</td>\n",
       "      <td>active</td>\n",
       "      <td>312.325</td>\n",
       "      <td>2.80320</td>\n",
       "      <td>0.0</td>\n",
       "      <td>6.0</td>\n",
       "    </tr>\n",
       "    <tr>\n",
       "      <th>1</th>\n",
       "      <td>CHEMBL336398</td>\n",
       "      <td>O=C(N1CCCCC1)n1nc(-c2ccc(Cl)cc2)nc1SCC1CC1</td>\n",
       "      <td>100.0</td>\n",
       "      <td>active</td>\n",
       "      <td>376.913</td>\n",
       "      <td>4.55460</td>\n",
       "      <td>0.0</td>\n",
       "      <td>5.0</td>\n",
       "    </tr>\n",
       "    <tr>\n",
       "      <th>2</th>\n",
       "      <td>CHEMBL131588</td>\n",
       "      <td>CN(C(=O)n1nc(-c2ccc(Cl)cc2)nc1SCC(F)(F)F)c1ccccc1</td>\n",
       "      <td>50000.0</td>\n",
       "      <td>inactive</td>\n",
       "      <td>426.851</td>\n",
       "      <td>5.35740</td>\n",
       "      <td>0.0</td>\n",
       "      <td>5.0</td>\n",
       "    </tr>\n",
       "    <tr>\n",
       "      <th>3</th>\n",
       "      <td>CHEMBL130628</td>\n",
       "      <td>O=C(N1CCCCC1)n1nc(-c2ccc(Cl)cc2)nc1SCC(F)(F)F</td>\n",
       "      <td>300.0</td>\n",
       "      <td>active</td>\n",
       "      <td>404.845</td>\n",
       "      <td>4.70690</td>\n",
       "      <td>0.0</td>\n",
       "      <td>5.0</td>\n",
       "    </tr>\n",
       "    <tr>\n",
       "      <th>4</th>\n",
       "      <td>CHEMBL130478</td>\n",
       "      <td>CSc1nc(-c2ccc(OC(F)(F)F)cc2)nn1C(=O)N(C)C</td>\n",
       "      <td>800.0</td>\n",
       "      <td>active</td>\n",
       "      <td>346.334</td>\n",
       "      <td>3.09530</td>\n",
       "      <td>0.0</td>\n",
       "      <td>6.0</td>\n",
       "    </tr>\n",
       "    <tr>\n",
       "      <th>...</th>\n",
       "      <td>...</td>\n",
       "      <td>...</td>\n",
       "      <td>...</td>\n",
       "      <td>...</td>\n",
       "      <td>...</td>\n",
       "      <td>...</td>\n",
       "      <td>...</td>\n",
       "      <td>...</td>\n",
       "    </tr>\n",
       "    <tr>\n",
       "      <th>4690</th>\n",
       "      <td>CHEMBL4293155</td>\n",
       "      <td>CC(C)(C)c1cc(/C=C/C(=O)NCCC2CCN(Cc3ccccc3Cl)CC...</td>\n",
       "      <td>2440.0</td>\n",
       "      <td>intermediate</td>\n",
       "      <td>511.150</td>\n",
       "      <td>7.07230</td>\n",
       "      <td>2.0</td>\n",
       "      <td>3.0</td>\n",
       "    </tr>\n",
       "    <tr>\n",
       "      <th>4691</th>\n",
       "      <td>CHEMBL4282558</td>\n",
       "      <td>CC(C)(C)c1cc(/C=C/C(=O)NCCC2CCN(Cc3cccc(Cl)c3)...</td>\n",
       "      <td>2540.0</td>\n",
       "      <td>intermediate</td>\n",
       "      <td>511.150</td>\n",
       "      <td>7.07230</td>\n",
       "      <td>2.0</td>\n",
       "      <td>3.0</td>\n",
       "    </tr>\n",
       "    <tr>\n",
       "      <th>4692</th>\n",
       "      <td>CHEMBL4281727</td>\n",
       "      <td>CC(C)(C)c1cc(/C=C/C(=O)NCCC2CCN(Cc3ccc(Br)cc3)...</td>\n",
       "      <td>3810.0</td>\n",
       "      <td>intermediate</td>\n",
       "      <td>555.601</td>\n",
       "      <td>7.18140</td>\n",
       "      <td>2.0</td>\n",
       "      <td>3.0</td>\n",
       "    </tr>\n",
       "    <tr>\n",
       "      <th>4693</th>\n",
       "      <td>CHEMBL4292349</td>\n",
       "      <td>CC(C)(C)c1cc(/C=C/C(=O)NCCC2CCN(Cc3cccc([N+](=...</td>\n",
       "      <td>3460.0</td>\n",
       "      <td>intermediate</td>\n",
       "      <td>521.702</td>\n",
       "      <td>6.32710</td>\n",
       "      <td>2.0</td>\n",
       "      <td>5.0</td>\n",
       "    </tr>\n",
       "    <tr>\n",
       "      <th>4694</th>\n",
       "      <td>CHEMBL4278260</td>\n",
       "      <td>CC(C)(C)c1cc(/C=C/C(=O)NCCC2CCN(Cc3ccc(C#N)cc3...</td>\n",
       "      <td>2780.0</td>\n",
       "      <td>intermediate</td>\n",
       "      <td>501.715</td>\n",
       "      <td>6.29058</td>\n",
       "      <td>2.0</td>\n",
       "      <td>4.0</td>\n",
       "    </tr>\n",
       "  </tbody>\n",
       "</table>\n",
       "<p>4695 rows × 8 columns</p>\n",
       "</div>"
      ],
      "text/plain": [
       "     molecule_chembl_id                                   canonical_smiles  \\\n",
       "0          CHEMBL133897              CCOc1nn(-c2cccc(OCc3ccccc3)c2)c(=O)o1   \n",
       "1          CHEMBL336398         O=C(N1CCCCC1)n1nc(-c2ccc(Cl)cc2)nc1SCC1CC1   \n",
       "2          CHEMBL131588  CN(C(=O)n1nc(-c2ccc(Cl)cc2)nc1SCC(F)(F)F)c1ccccc1   \n",
       "3          CHEMBL130628      O=C(N1CCCCC1)n1nc(-c2ccc(Cl)cc2)nc1SCC(F)(F)F   \n",
       "4          CHEMBL130478          CSc1nc(-c2ccc(OC(F)(F)F)cc2)nn1C(=O)N(C)C   \n",
       "...                 ...                                                ...   \n",
       "4690      CHEMBL4293155  CC(C)(C)c1cc(/C=C/C(=O)NCCC2CCN(Cc3ccccc3Cl)CC...   \n",
       "4691      CHEMBL4282558  CC(C)(C)c1cc(/C=C/C(=O)NCCC2CCN(Cc3cccc(Cl)c3)...   \n",
       "4692      CHEMBL4281727  CC(C)(C)c1cc(/C=C/C(=O)NCCC2CCN(Cc3ccc(Br)cc3)...   \n",
       "4693      CHEMBL4292349  CC(C)(C)c1cc(/C=C/C(=O)NCCC2CCN(Cc3cccc([N+](=...   \n",
       "4694      CHEMBL4278260  CC(C)(C)c1cc(/C=C/C(=O)NCCC2CCN(Cc3ccc(C#N)cc3...   \n",
       "\n",
       "      standard_value         class       MW     LogP  NumHDonors  \\\n",
       "0              750.0        active  312.325  2.80320         0.0   \n",
       "1              100.0        active  376.913  4.55460         0.0   \n",
       "2            50000.0      inactive  426.851  5.35740         0.0   \n",
       "3              300.0        active  404.845  4.70690         0.0   \n",
       "4              800.0        active  346.334  3.09530         0.0   \n",
       "...              ...           ...      ...      ...         ...   \n",
       "4690          2440.0  intermediate  511.150  7.07230         2.0   \n",
       "4691          2540.0  intermediate  511.150  7.07230         2.0   \n",
       "4692          3810.0  intermediate  555.601  7.18140         2.0   \n",
       "4693          3460.0  intermediate  521.702  6.32710         2.0   \n",
       "4694          2780.0  intermediate  501.715  6.29058         2.0   \n",
       "\n",
       "      NumHAcceptors  \n",
       "0               6.0  \n",
       "1               5.0  \n",
       "2               5.0  \n",
       "3               5.0  \n",
       "4               6.0  \n",
       "...             ...  \n",
       "4690            3.0  \n",
       "4691            3.0  \n",
       "4692            3.0  \n",
       "4693            5.0  \n",
       "4694            4.0  \n",
       "\n",
       "[4695 rows x 8 columns]"
      ]
     },
     "execution_count": 6,
     "metadata": {},
     "output_type": "execute_result"
    }
   ],
   "source": [
    "df_combined = pd.concat([df,df_lipinski], axis=1)\n",
    "df_combined.to_csv('acetylcholinesterase_bioactivity_data_3class.csv', index=False)\n",
    "df_combined"
   ]
  },
  {
   "cell_type": "code",
   "execution_count": 7,
   "id": "2b0387b0",
   "metadata": {},
   "outputs": [
    {
     "data": {
      "text/html": [
       "<div>\n",
       "<style scoped>\n",
       "    .dataframe tbody tr th:only-of-type {\n",
       "        vertical-align: middle;\n",
       "    }\n",
       "\n",
       "    .dataframe tbody tr th {\n",
       "        vertical-align: top;\n",
       "    }\n",
       "\n",
       "    .dataframe thead th {\n",
       "        text-align: right;\n",
       "    }\n",
       "</style>\n",
       "<table border=\"1\" class=\"dataframe\">\n",
       "  <thead>\n",
       "    <tr style=\"text-align: right;\">\n",
       "      <th></th>\n",
       "      <th>class</th>\n",
       "      <th>MW</th>\n",
       "      <th>LogP</th>\n",
       "      <th>NumHDonors</th>\n",
       "      <th>NumHAcceptors</th>\n",
       "    </tr>\n",
       "  </thead>\n",
       "  <tbody>\n",
       "    <tr>\n",
       "      <th>0</th>\n",
       "      <td>active</td>\n",
       "      <td>312.325</td>\n",
       "      <td>2.80320</td>\n",
       "      <td>0.0</td>\n",
       "      <td>6.0</td>\n",
       "    </tr>\n",
       "    <tr>\n",
       "      <th>1</th>\n",
       "      <td>active</td>\n",
       "      <td>376.913</td>\n",
       "      <td>4.55460</td>\n",
       "      <td>0.0</td>\n",
       "      <td>5.0</td>\n",
       "    </tr>\n",
       "    <tr>\n",
       "      <th>2</th>\n",
       "      <td>inactive</td>\n",
       "      <td>426.851</td>\n",
       "      <td>5.35740</td>\n",
       "      <td>0.0</td>\n",
       "      <td>5.0</td>\n",
       "    </tr>\n",
       "    <tr>\n",
       "      <th>3</th>\n",
       "      <td>active</td>\n",
       "      <td>404.845</td>\n",
       "      <td>4.70690</td>\n",
       "      <td>0.0</td>\n",
       "      <td>5.0</td>\n",
       "    </tr>\n",
       "    <tr>\n",
       "      <th>4</th>\n",
       "      <td>active</td>\n",
       "      <td>346.334</td>\n",
       "      <td>3.09530</td>\n",
       "      <td>0.0</td>\n",
       "      <td>6.0</td>\n",
       "    </tr>\n",
       "    <tr>\n",
       "      <th>...</th>\n",
       "      <td>...</td>\n",
       "      <td>...</td>\n",
       "      <td>...</td>\n",
       "      <td>...</td>\n",
       "      <td>...</td>\n",
       "    </tr>\n",
       "    <tr>\n",
       "      <th>4690</th>\n",
       "      <td>intermediate</td>\n",
       "      <td>511.150</td>\n",
       "      <td>7.07230</td>\n",
       "      <td>2.0</td>\n",
       "      <td>3.0</td>\n",
       "    </tr>\n",
       "    <tr>\n",
       "      <th>4691</th>\n",
       "      <td>intermediate</td>\n",
       "      <td>511.150</td>\n",
       "      <td>7.07230</td>\n",
       "      <td>2.0</td>\n",
       "      <td>3.0</td>\n",
       "    </tr>\n",
       "    <tr>\n",
       "      <th>4692</th>\n",
       "      <td>intermediate</td>\n",
       "      <td>555.601</td>\n",
       "      <td>7.18140</td>\n",
       "      <td>2.0</td>\n",
       "      <td>3.0</td>\n",
       "    </tr>\n",
       "    <tr>\n",
       "      <th>4693</th>\n",
       "      <td>intermediate</td>\n",
       "      <td>521.702</td>\n",
       "      <td>6.32710</td>\n",
       "      <td>2.0</td>\n",
       "      <td>5.0</td>\n",
       "    </tr>\n",
       "    <tr>\n",
       "      <th>4694</th>\n",
       "      <td>intermediate</td>\n",
       "      <td>501.715</td>\n",
       "      <td>6.29058</td>\n",
       "      <td>2.0</td>\n",
       "      <td>4.0</td>\n",
       "    </tr>\n",
       "  </tbody>\n",
       "</table>\n",
       "<p>4695 rows × 5 columns</p>\n",
       "</div>"
      ],
      "text/plain": [
       "             class       MW     LogP  NumHDonors  NumHAcceptors\n",
       "0           active  312.325  2.80320         0.0            6.0\n",
       "1           active  376.913  4.55460         0.0            5.0\n",
       "2         inactive  426.851  5.35740         0.0            5.0\n",
       "3           active  404.845  4.70690         0.0            5.0\n",
       "4           active  346.334  3.09530         0.0            6.0\n",
       "...            ...      ...      ...         ...            ...\n",
       "4690  intermediate  511.150  7.07230         2.0            3.0\n",
       "4691  intermediate  511.150  7.07230         2.0            3.0\n",
       "4692  intermediate  555.601  7.18140         2.0            3.0\n",
       "4693  intermediate  521.702  6.32710         2.0            5.0\n",
       "4694  intermediate  501.715  6.29058         2.0            4.0\n",
       "\n",
       "[4695 rows x 5 columns]"
      ]
     },
     "execution_count": 7,
     "metadata": {},
     "output_type": "execute_result"
    }
   ],
   "source": [
    "lipinski_3class = df_combined.drop(columns=['molecule_chembl_id', 'canonical_smiles', 'standard_value'], axis=1)\n",
    "lipinski_3class"
   ]
  },
  {
   "cell_type": "markdown",
   "id": "7762dddc",
   "metadata": {},
   "source": [
    "<h2>Data Analysis</h2>"
   ]
  },
  {
   "cell_type": "code",
   "execution_count": 8,
   "id": "d269cd4d",
   "metadata": {},
   "outputs": [
    {
     "name": "stdout",
     "output_type": "stream",
     "text": [
      "<class 'pandas.core.frame.DataFrame'>\n",
      "RangeIndex: 4695 entries, 0 to 4694\n",
      "Data columns (total 5 columns):\n",
      " #   Column         Non-Null Count  Dtype  \n",
      "---  ------         --------------  -----  \n",
      " 0   class          4695 non-null   object \n",
      " 1   MW             4695 non-null   float64\n",
      " 2   LogP           4695 non-null   float64\n",
      " 3   NumHDonors     4695 non-null   float64\n",
      " 4   NumHAcceptors  4695 non-null   float64\n",
      "dtypes: float64(4), object(1)\n",
      "memory usage: 183.5+ KB\n"
     ]
    }
   ],
   "source": [
    "lipinski_3class.info()"
   ]
  },
  {
   "cell_type": "code",
   "execution_count": 9,
   "id": "678a33ca",
   "metadata": {},
   "outputs": [
    {
     "data": {
      "text/html": [
       "<div>\n",
       "<style scoped>\n",
       "    .dataframe tbody tr th:only-of-type {\n",
       "        vertical-align: middle;\n",
       "    }\n",
       "\n",
       "    .dataframe tbody tr th {\n",
       "        vertical-align: top;\n",
       "    }\n",
       "\n",
       "    .dataframe thead th {\n",
       "        text-align: right;\n",
       "    }\n",
       "</style>\n",
       "<table border=\"1\" class=\"dataframe\">\n",
       "  <thead>\n",
       "    <tr style=\"text-align: right;\">\n",
       "      <th></th>\n",
       "      <th>MW</th>\n",
       "      <th>LogP</th>\n",
       "      <th>NumHDonors</th>\n",
       "      <th>NumHAcceptors</th>\n",
       "    </tr>\n",
       "  </thead>\n",
       "  <tbody>\n",
       "    <tr>\n",
       "      <th>count</th>\n",
       "      <td>4695.000000</td>\n",
       "      <td>4695.000000</td>\n",
       "      <td>4695.000000</td>\n",
       "      <td>4695.000000</td>\n",
       "    </tr>\n",
       "    <tr>\n",
       "      <th>mean</th>\n",
       "      <td>415.677588</td>\n",
       "      <td>3.996489</td>\n",
       "      <td>1.130351</td>\n",
       "      <td>4.373589</td>\n",
       "    </tr>\n",
       "    <tr>\n",
       "      <th>std</th>\n",
       "      <td>129.938801</td>\n",
       "      <td>2.510010</td>\n",
       "      <td>1.093443</td>\n",
       "      <td>1.888268</td>\n",
       "    </tr>\n",
       "    <tr>\n",
       "      <th>min</th>\n",
       "      <td>61.040000</td>\n",
       "      <td>-6.615100</td>\n",
       "      <td>0.000000</td>\n",
       "      <td>0.000000</td>\n",
       "    </tr>\n",
       "    <tr>\n",
       "      <th>25%</th>\n",
       "      <td>332.844000</td>\n",
       "      <td>2.622600</td>\n",
       "      <td>0.000000</td>\n",
       "      <td>3.000000</td>\n",
       "    </tr>\n",
       "    <tr>\n",
       "      <th>50%</th>\n",
       "      <td>401.212000</td>\n",
       "      <td>4.113800</td>\n",
       "      <td>1.000000</td>\n",
       "      <td>4.000000</td>\n",
       "    </tr>\n",
       "    <tr>\n",
       "      <th>75%</th>\n",
       "      <td>484.611000</td>\n",
       "      <td>5.406450</td>\n",
       "      <td>2.000000</td>\n",
       "      <td>6.000000</td>\n",
       "    </tr>\n",
       "    <tr>\n",
       "      <th>max</th>\n",
       "      <td>1235.463000</td>\n",
       "      <td>13.506800</td>\n",
       "      <td>10.000000</td>\n",
       "      <td>16.000000</td>\n",
       "    </tr>\n",
       "  </tbody>\n",
       "</table>\n",
       "</div>"
      ],
      "text/plain": [
       "                MW         LogP   NumHDonors  NumHAcceptors\n",
       "count  4695.000000  4695.000000  4695.000000    4695.000000\n",
       "mean    415.677588     3.996489     1.130351       4.373589\n",
       "std     129.938801     2.510010     1.093443       1.888268\n",
       "min      61.040000    -6.615100     0.000000       0.000000\n",
       "25%     332.844000     2.622600     0.000000       3.000000\n",
       "50%     401.212000     4.113800     1.000000       4.000000\n",
       "75%     484.611000     5.406450     2.000000       6.000000\n",
       "max    1235.463000    13.506800    10.000000      16.000000"
      ]
     },
     "execution_count": 9,
     "metadata": {},
     "output_type": "execute_result"
    }
   ],
   "source": [
    "lipinski_3class.describe()"
   ]
  },
  {
   "cell_type": "code",
   "execution_count": 10,
   "id": "159343b8",
   "metadata": {},
   "outputs": [
    {
     "data": {
      "text/plain": [
       "active          2039\n",
       "inactive        1510\n",
       "intermediate    1146\n",
       "Name: class, dtype: int64"
      ]
     },
     "execution_count": 10,
     "metadata": {},
     "output_type": "execute_result"
    }
   ],
   "source": [
    "lipinski_3class['class'].value_counts()"
   ]
  },
  {
   "cell_type": "code",
   "execution_count": 11,
   "id": "97dcb3a8",
   "metadata": {},
   "outputs": [],
   "source": [
    "X = lipinski_3class.drop('class', axis=1)\n",
    "y = lipinski_3class['class']"
   ]
  },
  {
   "cell_type": "code",
   "execution_count": 12,
   "id": "4325af43",
   "metadata": {},
   "outputs": [
    {
     "name": "stdout",
     "output_type": "stream",
     "text": [
      "(4695, 4)\n",
      "(4695,)\n"
     ]
    }
   ],
   "source": [
    "print(X.shape)\n",
    "print(y.shape)"
   ]
  },
  {
   "cell_type": "markdown",
   "id": "08ed0ef2",
   "metadata": {},
   "source": [
    "Similar to what we did in the previous notebook, we need to change the type of 'class'."
   ]
  },
  {
   "cell_type": "code",
   "execution_count": 13,
   "id": "80d56728",
   "metadata": {},
   "outputs": [],
   "source": [
    "lipinski_3class['class'].replace({'inactive': -1, 'intermediate': 0, 'active': 1}, inplace=True)"
   ]
  },
  {
   "cell_type": "code",
   "execution_count": 14,
   "id": "f6967ff3",
   "metadata": {},
   "outputs": [
    {
     "data": {
      "image/png": "[encoded data removed]",
      "text/plain": [
       "<Figure size 1440x1080 with 6 Axes>"
      ]
     },
     "metadata": {
      "needs_background": "light"
     },
     "output_type": "display_data"
    }
   ],
   "source": [
    "%matplotlib inline\n",
    "import matplotlib.pyplot as plt\n",
    "\n",
    "lipinski_3class.hist(bins=10, figsize=(20,15))\n",
    "#save_fig(\"lipinski_attribute_histogram_plots\")\n",
    "plt.show()"
   ]
  },
  {
   "cell_type": "code",
   "execution_count": 15,
   "id": "7be54bb7",
   "metadata": {},
   "outputs": [
    {
     "data": {
      "text/plain": [
       "array([[<AxesSubplot:xlabel='class', ylabel='class'>,\n",
       "        <AxesSubplot:xlabel='MW', ylabel='class'>,\n",
       "        <AxesSubplot:xlabel='LogP', ylabel='class'>,\n",
       "        <AxesSubplot:xlabel='NumHDonors', ylabel='class'>,\n",
       "        <AxesSubplot:xlabel='NumHAcceptors', ylabel='class'>],\n",
       "       [<AxesSubplot:xlabel='class', ylabel='MW'>,\n",
       "        <AxesSubplot:xlabel='MW', ylabel='MW'>,\n",
       "        <AxesSubplot:xlabel='LogP', ylabel='MW'>,\n",
       "        <AxesSubplot:xlabel='NumHDonors', ylabel='MW'>,\n",
       "        <AxesSubplot:xlabel='NumHAcceptors', ylabel='MW'>],\n",
       "       [<AxesSubplot:xlabel='class', ylabel='LogP'>,\n",
       "        <AxesSubplot:xlabel='MW', ylabel='LogP'>,\n",
       "        <AxesSubplot:xlabel='LogP', ylabel='LogP'>,\n",
       "        <AxesSubplot:xlabel='NumHDonors', ylabel='LogP'>,\n",
       "        <AxesSubplot:xlabel='NumHAcceptors', ylabel='LogP'>],\n",
       "       [<AxesSubplot:xlabel='class', ylabel='NumHDonors'>,\n",
       "        <AxesSubplot:xlabel='MW', ylabel='NumHDonors'>,\n",
       "        <AxesSubplot:xlabel='LogP', ylabel='NumHDonors'>,\n",
       "        <AxesSubplot:xlabel='NumHDonors', ylabel='NumHDonors'>,\n",
       "        <AxesSubplot:xlabel='NumHAcceptors', ylabel='NumHDonors'>],\n",
       "       [<AxesSubplot:xlabel='class', ylabel='NumHAcceptors'>,\n",
       "        <AxesSubplot:xlabel='MW', ylabel='NumHAcceptors'>,\n",
       "        <AxesSubplot:xlabel='LogP', ylabel='NumHAcceptors'>,\n",
       "        <AxesSubplot:xlabel='NumHDonors', ylabel='NumHAcceptors'>,\n",
       "        <AxesSubplot:xlabel='NumHAcceptors', ylabel='NumHAcceptors'>]],\n",
       "      dtype=object)"
      ]
     },
     "execution_count": 15,
     "metadata": {},
     "output_type": "execute_result"
    },
    {
     "data": {
      "image/png": "[encoded data removed]",
      "text/plain": [
       "<Figure size 864x576 with 25 Axes>"
      ]
     },
     "metadata": {
      "needs_background": "light"
     },
     "output_type": "display_data"
    }
   ],
   "source": [
    "from pandas.plotting import scatter_matrix\n",
    "\n",
    "attributes = ['class', 'MW', 'LogP', 'NumHDonors', 'NumHAcceptors']\n",
    "scatter_matrix(lipinski_3class[attributes], figsize=(12, 8))"
   ]
  },
  {
   "cell_type": "markdown",
   "id": "f94b445d",
   "metadata": {},
   "source": [
    "<h2>Split a dataset into a train set and a test set</h2>"
   ]
  },
  {
   "cell_type": "markdown",
   "id": "69f19e10",
   "metadata": {},
   "source": [
    "As I pointed out in the previous notebook, randomly sampling data using train_test_split() can be skewed.\n",
    "For example, the ratio of female and male in America is about 51:49. If I blidly selected samples from a phone book, it would be very likely the samples are biased.\n",
    "It would be better to do sampling that matches the actual ratio.<br>\n",
    "To do that, I will use StratifiedShuffleSplit. It will split the data set corresponding to the ratio."
   ]
  },
  {
   "cell_type": "code",
   "execution_count": 16,
   "id": "37c12b37",
   "metadata": {},
   "outputs": [],
   "source": [
    "from sklearn.model_selection import StratifiedShuffleSplit\n",
    "\n",
    "split = StratifiedShuffleSplit(n_splits=1, test_size=0.2, random_state=42)\n",
    "for train_index, test_index in split.split(X, y):\n",
    "    X_train, y_train = X.loc[train_index], y.loc[train_index]\n",
    "    X_test, y_test = X.loc[test_index], y.loc[test_index]"
   ]
  },
  {
   "cell_type": "markdown",
   "id": "f927168f",
   "metadata": {},
   "source": [
    "<h4>Random Forest Classifier</h4>"
   ]
  },
  {
   "cell_type": "code",
   "execution_count": 17,
   "id": "847520cc",
   "metadata": {},
   "outputs": [
    {
     "data": {
      "text/plain": [
       "GridSearchCV(cv=5, estimator=RandomForestClassifier(),\n",
       "             param_grid=[{'criterion': ['gini', 'entropy'],\n",
       "                          'max_depth': [4, 5, 6, 7, 8],\n",
       "                          'max_features': ['auto', 'sqrt', 'log2'],\n",
       "                          'n_estimators': [200, 500]}],\n",
       "             return_train_score=True, scoring='neg_mean_squared_error')"
      ]
     },
     "execution_count": 17,
     "metadata": {},
     "output_type": "execute_result"
    }
   ],
   "source": [
    "# again, find a hyperparameter combination that performs the best\n",
    "from sklearn.model_selection import GridSearchCV\n",
    "from sklearn.ensemble import RandomForestClassifier\n",
    "\n",
    "param_grid = [\n",
    "   {\n",
    "       'n_estimators': [200, 500],\n",
    "       'max_features': ['auto', 'sqrt', 'log2'],\n",
    "       'max_depth': [4, 5, 6, 7, 8],\n",
    "       'criterion': ['gini', 'entropy']\n",
    "   }\n",
    "]\n",
    "\n",
    "randForest_clf = RandomForestClassifier()\n",
    "grid_search_randForest = GridSearchCV(randForest_clf, param_grid, cv=5,\n",
    "                          scoring='neg_mean_squared_error',\n",
    "                          return_train_score=True)\n",
    "grid_search_randForest.fit(X_train, y_train)\n"
   ]
  },
  {
   "cell_type": "code",
   "execution_count": 18,
   "id": "769ce1f4",
   "metadata": {},
   "outputs": [
    {
     "data": {
      "text/plain": [
       "{'criterion': 'gini',\n",
       " 'max_depth': 8,\n",
       " 'max_features': 'auto',\n",
       " 'n_estimators': 200}"
      ]
     },
     "execution_count": 18,
     "metadata": {},
     "output_type": "execute_result"
    }
   ],
   "source": [
    "grid_search_randForest.best_params_"
   ]
  },
  {
   "cell_type": "code",
   "execution_count": 19,
   "id": "6dc32109",
   "metadata": {},
   "outputs": [
    {
     "name": "stdout",
     "output_type": "stream",
     "text": [
      "1.1160011368958216 {'criterion': 'gini', 'max_depth': 4, 'max_features': 'auto', 'n_estimators': 200}\n",
      "1.1121784103730776 {'criterion': 'gini', 'max_depth': 4, 'max_features': 'auto', 'n_estimators': 500}\n",
      "1.1117006806077496 {'criterion': 'gini', 'max_depth': 4, 'max_features': 'sqrt', 'n_estimators': 200}\n",
      "1.1099013002936169 {'criterion': 'gini', 'max_depth': 4, 'max_features': 'sqrt', 'n_estimators': 500}\n",
      "1.1119390934168218 {'criterion': 'gini', 'max_depth': 4, 'max_features': 'log2', 'n_estimators': 200}\n",
      "1.1097819611797124 {'criterion': 'gini', 'max_depth': 4, 'max_features': 'log2', 'n_estimators': 500}\n",
      "1.092126933388321 {'criterion': 'gini', 'max_depth': 5, 'max_features': 'auto', 'n_estimators': 200}\n",
      "1.0915177952101334 {'criterion': 'gini', 'max_depth': 5, 'max_features': 'auto', 'n_estimators': 500}\n",
      "1.0898106894627735 {'criterion': 'gini', 'max_depth': 5, 'max_features': 'sqrt', 'n_estimators': 200}\n",
      "1.0941978293285637 {'criterion': 'gini', 'max_depth': 5, 'max_features': 'sqrt', 'n_estimators': 500}\n",
      "1.092616624787068 {'criterion': 'gini', 'max_depth': 5, 'max_features': 'log2', 'n_estimators': 200}\n",
      "1.095292838579627 {'criterion': 'gini', 'max_depth': 5, 'max_features': 'log2', 'n_estimators': 500}\n",
      "1.0708365593809446 {'criterion': 'gini', 'max_depth': 6, 'max_features': 'auto', 'n_estimators': 200}\n",
      "1.0698396622171633 {'criterion': 'gini', 'max_depth': 6, 'max_features': 'auto', 'n_estimators': 500}\n",
      "1.0600912473468322 {'criterion': 'gini', 'max_depth': 6, 'max_features': 'sqrt', 'n_estimators': 200}\n",
      "1.069715853775834 {'criterion': 'gini', 'max_depth': 6, 'max_features': 'sqrt', 'n_estimators': 500}\n",
      "1.0684696885840237 {'criterion': 'gini', 'max_depth': 6, 'max_features': 'log2', 'n_estimators': 200}\n",
      "1.0697165158911697 {'criterion': 'gini', 'max_depth': 6, 'max_features': 'log2', 'n_estimators': 500}\n",
      "1.0435152073038148 {'criterion': 'gini', 'max_depth': 7, 'max_features': 'auto', 'n_estimators': 200}\n",
      "1.0410870746863934 {'criterion': 'gini', 'max_depth': 7, 'max_features': 'auto', 'n_estimators': 500}\n",
      "1.0431296117533695 {'criterion': 'gini', 'max_depth': 7, 'max_features': 'sqrt', 'n_estimators': 200}\n",
      "1.0418530067251222 {'criterion': 'gini', 'max_depth': 7, 'max_features': 'sqrt', 'n_estimators': 500}\n",
      "1.0530340508463314 {'criterion': 'gini', 'max_depth': 7, 'max_features': 'log2', 'n_estimators': 200}\n",
      "1.043129272257875 {'criterion': 'gini', 'max_depth': 7, 'max_features': 'log2', 'n_estimators': 500}\n",
      "1.0210800857241547 {'criterion': 'gini', 'max_depth': 8, 'max_features': 'auto', 'n_estimators': 200}\n",
      "1.022771199172973 {'criterion': 'gini', 'max_depth': 8, 'max_features': 'auto', 'n_estimators': 500}\n",
      "1.02329200443162 {'criterion': 'gini', 'max_depth': 8, 'max_features': 'sqrt', 'n_estimators': 200}\n",
      "1.022901208966208 {'criterion': 'gini', 'max_depth': 8, 'max_features': 'sqrt', 'n_estimators': 500}\n",
      "1.024591563253619 {'criterion': 'gini', 'max_depth': 8, 'max_features': 'log2', 'n_estimators': 200}\n",
      "1.027186437972728 {'criterion': 'gini', 'max_depth': 8, 'max_features': 'log2', 'n_estimators': 500}\n",
      "1.1126572081455284 {'criterion': 'entropy', 'max_depth': 4, 'max_features': 'auto', 'n_estimators': 200}\n",
      "1.1133737464317908 {'criterion': 'entropy', 'max_depth': 4, 'max_features': 'auto', 'n_estimators': 500}\n",
      "1.1136135500987994 {'criterion': 'entropy', 'max_depth': 4, 'max_features': 'sqrt', 'n_estimators': 200}\n",
      "1.115166253529881 {'criterion': 'entropy', 'max_depth': 4, 'max_features': 'sqrt', 'n_estimators': 500}\n",
      "1.1132535071168768 {'criterion': 'entropy', 'max_depth': 4, 'max_features': 'log2', 'n_estimators': 200}\n",
      "1.1122981291382898 {'criterion': 'entropy', 'max_depth': 4, 'max_features': 'log2', 'n_estimators': 500}\n",
      "1.0958992321671839 {'criterion': 'entropy', 'max_depth': 5, 'max_features': 'auto', 'n_estimators': 200}\n",
      "1.0972346359002825 {'criterion': 'entropy', 'max_depth': 5, 'max_features': 'auto', 'n_estimators': 500}\n",
      "1.0933458111472365 {'criterion': 'entropy', 'max_depth': 5, 'max_features': 'sqrt', 'n_estimators': 200}\n",
      "1.091396608188134 {'criterion': 'entropy', 'max_depth': 5, 'max_features': 'sqrt', 'n_estimators': 500}\n",
      "1.0939529602768685 {'criterion': 'entropy', 'max_depth': 5, 'max_features': 'log2', 'n_estimators': 200}\n",
      "1.0954142411392256 {'criterion': 'entropy', 'max_depth': 5, 'max_features': 'log2', 'n_estimators': 500}\n",
      "1.0750524358147624 {'criterion': 'entropy', 'max_depth': 6, 'max_features': 'auto', 'n_estimators': 200}\n",
      "1.0698401587462354 {'criterion': 'entropy', 'max_depth': 6, 'max_features': 'auto', 'n_estimators': 500}\n",
      "1.0672243910981212 {'criterion': 'entropy', 'max_depth': 6, 'max_features': 'sqrt', 'n_estimators': 200}\n",
      "1.0719524592834693 {'criterion': 'entropy', 'max_depth': 6, 'max_features': 'sqrt', 'n_estimators': 500}\n",
      "1.0775246482803267 {'criterion': 'entropy', 'max_depth': 6, 'max_features': 'log2', 'n_estimators': 200}\n",
      "1.0725715534972238 {'criterion': 'entropy', 'max_depth': 6, 'max_features': 'log2', 'n_estimators': 500}\n",
      "1.052149204106023 {'criterion': 'entropy', 'max_depth': 7, 'max_features': 'auto', 'n_estimators': 200}\n",
      "1.048472150004776 {'criterion': 'entropy', 'max_depth': 7, 'max_features': 'auto', 'n_estimators': 500}\n",
      "1.039681258512398 {'criterion': 'entropy', 'max_depth': 7, 'max_features': 'sqrt', 'n_estimators': 200}\n",
      "1.0474595466304895 {'criterion': 'entropy', 'max_depth': 7, 'max_features': 'sqrt', 'n_estimators': 500}\n",
      "1.0546762795121278 {'criterion': 'entropy', 'max_depth': 7, 'max_features': 'log2', 'n_estimators': 200}\n",
      "1.0472061159805026 {'criterion': 'entropy', 'max_depth': 7, 'max_features': 'log2', 'n_estimators': 500}\n",
      "1.0326130098026618 {'criterion': 'entropy', 'max_depth': 8, 'max_features': 'auto', 'n_estimators': 200}\n",
      "1.029382139318008 {'criterion': 'entropy', 'max_depth': 8, 'max_features': 'auto', 'n_estimators': 500}\n",
      "1.0345464835416984 {'criterion': 'entropy', 'max_depth': 8, 'max_features': 'sqrt', 'n_estimators': 200}\n",
      "1.0249803322101767 {'criterion': 'entropy', 'max_depth': 8, 'max_features': 'sqrt', 'n_estimators': 500}\n",
      "1.0328671067240067 {'criterion': 'entropy', 'max_depth': 8, 'max_features': 'log2', 'n_estimators': 200}\n",
      "1.0283495331230594 {'criterion': 'entropy', 'max_depth': 8, 'max_features': 'log2', 'n_estimators': 500}\n"
     ]
    }
   ],
   "source": [
    "cvres = grid_search_randForest.cv_results_\n",
    "for mean_score, params in zip(cvres['mean_test_score'], cvres['params']):\n",
    "    print(np.sqrt(-mean_score), params)"
   ]
  },
  {
   "cell_type": "markdown",
   "id": "acf48da4",
   "metadata": {},
   "source": [
    "To see which features have important information, I will use feature_importances_ method. <br>\n",
    "This method returns an array of importance scores."
   ]
  },
  {
   "cell_type": "markdown",
   "id": "633e18c4",
   "metadata": {},
   "source": [
    "<h2>Features Tuning</h2>"
   ]
  },
  {
   "cell_type": "code",
   "execution_count": 20,
   "id": "6741f8a7",
   "metadata": {},
   "outputs": [
    {
     "data": {
      "text/plain": [
       "array([0.34422482, 0.39966791, 0.1120963 , 0.14401097])"
      ]
     },
     "execution_count": 20,
     "metadata": {},
     "output_type": "execute_result"
    }
   ],
   "source": [
    "feature_importances = grid_search_randForest.best_estimator_.feature_importances_\n",
    "feature_importances"
   ]
  },
  {
   "cell_type": "code",
   "execution_count": 21,
   "id": "d462fbe6",
   "metadata": {},
   "outputs": [
    {
     "data": {
      "text/plain": [
       "[(0.399667910375374, 'LogP'),\n",
       " (0.3442248203010163, 'MW'),\n",
       " (0.14401097124363912, 'NumHAcceptors'),\n",
       " (0.11209629807997062, 'NumHDonors')]"
      ]
     },
     "execution_count": 21,
     "metadata": {},
     "output_type": "execute_result"
    }
   ],
   "source": [
    "attributes = X.columns\n",
    "sorted(zip(feature_importances, attributes), reverse=True)"
   ]
  },
  {
   "cell_type": "markdown",
   "id": "b22fd5ef",
   "metadata": {},
   "source": [
    "<h3>Add more Features (manipulating the data)</h3>"
   ]
  },
  {
   "cell_type": "markdown",
   "id": "a4ae30d7",
   "metadata": {},
   "source": [
    "Since Number of H acceptors and Number of H donors do not provide much useful information, I'd like to manipulate these two and produce more important attributes. <br>\n",
    "I calculate the number of H acceptors per molecular weight and the number of H donors per molecular weight.\n",
    "Let's check if these have greater feature importance scores."
   ]
  },
  {
   "cell_type": "code",
   "execution_count": 22,
   "id": "d5d2725a",
   "metadata": {},
   "outputs": [],
   "source": [
    "from sklearn.base import BaseEstimator, TransformerMixin\n",
    "\n",
    "col_names = 'NumHDonors', 'NumHAcceptors', 'MW' \n",
    "NumHDonors_ix, NumHAcceptors_ix, MW_ix = [\n",
    "    X.columns.get_loc(c) for c in col_names\n",
    "]\n",
    "\n",
    "class CombinedAttributesAdder(BaseEstimator, TransformerMixin):\n",
    "    def __init__(self, add_NumHDonors_per_MW=True):\n",
    "        self.add_NumHDonors_per_MW = add_NumHDonors_per_MW\n",
    "    def fit(self, X, y=None):\n",
    "        return self\n",
    "    def transform(self, X):\n",
    "        NumHAcceptors_per_MW = X[:, NumHAcceptors_ix] / X[:, MW_ix]\n",
    "        if self.add_NumHDonors_per_MW:\n",
    "            NumHDonors_per_MW = X[:, NumHDonors_ix] / X[:, MW_ix]\n",
    "            return np.c_[X, NumHDonors_per_MW, NumHAcceptors_per_MW]\n",
    "        else:\n",
    "            return np.c_[X, NumHAcceptors_per_MW]\n",
    "\n",
    "attr_adder = CombinedAttributesAdder(add_NumHDonors_per_MW=True)\n",
    "lipinski_extra_attribs = attr_adder.transform(X_train.values)"
   ]
  },
  {
   "cell_type": "code",
   "execution_count": 23,
   "id": "1982d526",
   "metadata": {},
   "outputs": [
    {
     "data": {
      "text/html": [
       "<div>\n",
       "<style scoped>\n",
       "    .dataframe tbody tr th:only-of-type {\n",
       "        vertical-align: middle;\n",
       "    }\n",
       "\n",
       "    .dataframe tbody tr th {\n",
       "        vertical-align: top;\n",
       "    }\n",
       "\n",
       "    .dataframe thead th {\n",
       "        text-align: right;\n",
       "    }\n",
       "</style>\n",
       "<table border=\"1\" class=\"dataframe\">\n",
       "  <thead>\n",
       "    <tr style=\"text-align: right;\">\n",
       "      <th></th>\n",
       "      <th>MW</th>\n",
       "      <th>LogP</th>\n",
       "      <th>NumHDonors</th>\n",
       "      <th>NumHAcceptors</th>\n",
       "      <th>NumHDonors_per_MW</th>\n",
       "      <th>NumHAcceptors_per_MW</th>\n",
       "    </tr>\n",
       "  </thead>\n",
       "  <tbody>\n",
       "    <tr>\n",
       "      <th>2314</th>\n",
       "      <td>406.907</td>\n",
       "      <td>6.60900</td>\n",
       "      <td>2.0</td>\n",
       "      <td>2.0</td>\n",
       "      <td>0.004915</td>\n",
       "      <td>0.004915</td>\n",
       "    </tr>\n",
       "    <tr>\n",
       "      <th>3064</th>\n",
       "      <td>679.780</td>\n",
       "      <td>11.94640</td>\n",
       "      <td>2.0</td>\n",
       "      <td>4.0</td>\n",
       "      <td>0.002942</td>\n",
       "      <td>0.005884</td>\n",
       "    </tr>\n",
       "    <tr>\n",
       "      <th>1824</th>\n",
       "      <td>282.391</td>\n",
       "      <td>3.03980</td>\n",
       "      <td>1.0</td>\n",
       "      <td>4.0</td>\n",
       "      <td>0.003541</td>\n",
       "      <td>0.014165</td>\n",
       "    </tr>\n",
       "    <tr>\n",
       "      <th>1458</th>\n",
       "      <td>444.575</td>\n",
       "      <td>5.52690</td>\n",
       "      <td>0.0</td>\n",
       "      <td>4.0</td>\n",
       "      <td>0.000000</td>\n",
       "      <td>0.008997</td>\n",
       "    </tr>\n",
       "    <tr>\n",
       "      <th>40</th>\n",
       "      <td>380.876</td>\n",
       "      <td>2.10500</td>\n",
       "      <td>3.0</td>\n",
       "      <td>6.0</td>\n",
       "      <td>0.007877</td>\n",
       "      <td>0.015753</td>\n",
       "    </tr>\n",
       "    <tr>\n",
       "      <th>...</th>\n",
       "      <td>...</td>\n",
       "      <td>...</td>\n",
       "      <td>...</td>\n",
       "      <td>...</td>\n",
       "      <td>...</td>\n",
       "      <td>...</td>\n",
       "    </tr>\n",
       "    <tr>\n",
       "      <th>2612</th>\n",
       "      <td>405.498</td>\n",
       "      <td>4.64162</td>\n",
       "      <td>1.0</td>\n",
       "      <td>6.0</td>\n",
       "      <td>0.002466</td>\n",
       "      <td>0.014797</td>\n",
       "    </tr>\n",
       "    <tr>\n",
       "      <th>3130</th>\n",
       "      <td>407.598</td>\n",
       "      <td>6.64390</td>\n",
       "      <td>0.0</td>\n",
       "      <td>3.0</td>\n",
       "      <td>0.000000</td>\n",
       "      <td>0.007360</td>\n",
       "    </tr>\n",
       "    <tr>\n",
       "      <th>4631</th>\n",
       "      <td>292.290</td>\n",
       "      <td>3.66944</td>\n",
       "      <td>0.0</td>\n",
       "      <td>4.0</td>\n",
       "      <td>0.000000</td>\n",
       "      <td>0.013685</td>\n",
       "    </tr>\n",
       "    <tr>\n",
       "      <th>2756</th>\n",
       "      <td>373.316</td>\n",
       "      <td>0.74630</td>\n",
       "      <td>5.0</td>\n",
       "      <td>5.0</td>\n",
       "      <td>0.013393</td>\n",
       "      <td>0.013393</td>\n",
       "    </tr>\n",
       "    <tr>\n",
       "      <th>345</th>\n",
       "      <td>379.504</td>\n",
       "      <td>4.79000</td>\n",
       "      <td>1.0</td>\n",
       "      <td>4.0</td>\n",
       "      <td>0.002635</td>\n",
       "      <td>0.010540</td>\n",
       "    </tr>\n",
       "  </tbody>\n",
       "</table>\n",
       "<p>3756 rows × 6 columns</p>\n",
       "</div>"
      ],
      "text/plain": [
       "           MW      LogP  NumHDonors  NumHAcceptors  NumHDonors_per_MW  \\\n",
       "2314  406.907   6.60900         2.0            2.0           0.004915   \n",
       "3064  679.780  11.94640         2.0            4.0           0.002942   \n",
       "1824  282.391   3.03980         1.0            4.0           0.003541   \n",
       "1458  444.575   5.52690         0.0            4.0           0.000000   \n",
       "40    380.876   2.10500         3.0            6.0           0.007877   \n",
       "...       ...       ...         ...            ...                ...   \n",
       "2612  405.498   4.64162         1.0            6.0           0.002466   \n",
       "3130  407.598   6.64390         0.0            3.0           0.000000   \n",
       "4631  292.290   3.66944         0.0            4.0           0.000000   \n",
       "2756  373.316   0.74630         5.0            5.0           0.013393   \n",
       "345   379.504   4.79000         1.0            4.0           0.002635   \n",
       "\n",
       "      NumHAcceptors_per_MW  \n",
       "2314              0.004915  \n",
       "3064              0.005884  \n",
       "1824              0.014165  \n",
       "1458              0.008997  \n",
       "40                0.015753  \n",
       "...                    ...  \n",
       "2612              0.014797  \n",
       "3130              0.007360  \n",
       "4631              0.013685  \n",
       "2756              0.013393  \n",
       "345               0.010540  \n",
       "\n",
       "[3756 rows x 6 columns]"
      ]
     },
     "execution_count": 23,
     "metadata": {},
     "output_type": "execute_result"
    }
   ],
   "source": [
    "lipinski_extra_attribs = pd.DataFrame(\n",
    "    lipinski_extra_attribs, \n",
    "    columns=list(X_train.columns) + ['NumHDonors_per_MW', 'NumHAcceptors_per_MW'], index=X_train.index)\n",
    "lipinski_extra_attribs"
   ]
  },
  {
   "cell_type": "code",
   "execution_count": 24,
   "id": "6b6a0f50",
   "metadata": {},
   "outputs": [
    {
     "data": {
      "text/plain": [
       "GridSearchCV(cv=5, estimator=RandomForestClassifier(),\n",
       "             param_grid=[{'criterion': ['gini', 'entropy'],\n",
       "                          'max_depth': [4, 5, 6, 7, 8],\n",
       "                          'max_features': ['auto', 'sqrt', 'log2'],\n",
       "                          'n_estimators': [200, 500]}],\n",
       "             return_train_score=True, scoring='neg_mean_squared_error')"
      ]
     },
     "execution_count": 24,
     "metadata": {},
     "output_type": "execute_result"
    }
   ],
   "source": [
    "grid_search_randForest.fit(lipinski_extra_attribs, y_train)"
   ]
  },
  {
   "cell_type": "code",
   "execution_count": 25,
   "id": "5d330768",
   "metadata": {},
   "outputs": [
    {
     "data": {
      "text/plain": [
       "[(0.2981131285969465, 'LogP'),\n",
       " (0.2443155110399311, 'MW'),\n",
       " (0.18562588203761246, 'NumHAcceptors_per_MW'),\n",
       " (0.13411857841429786, 'NumHDonors_per_MW'),\n",
       " (0.08033057490308153, 'NumHAcceptors'),\n",
       " (0.05749632500813038, 'NumHDonors')]"
      ]
     },
     "execution_count": 25,
     "metadata": {},
     "output_type": "execute_result"
    }
   ],
   "source": [
    "feature_importances = grid_search_randForest.best_estimator_.feature_importances_\n",
    "attributes = lipinski_extra_attribs.columns\n",
    "sorted(zip(feature_importances, attributes), reverse=True)"
   ]
  },
  {
   "cell_type": "markdown",
   "id": "e6638858",
   "metadata": {},
   "source": [
    "Hooray! My guess was right! Now we got more important attributes than 'NumHAccepors' and 'NumHDonors'.<br>\n",
    "Let's add these two attributes to the data table."
   ]
  },
  {
   "cell_type": "code",
   "execution_count": 26,
   "id": "b3ceb75a",
   "metadata": {},
   "outputs": [
    {
     "data": {
      "text/html": [
       "<div>\n",
       "<style scoped>\n",
       "    .dataframe tbody tr th:only-of-type {\n",
       "        vertical-align: middle;\n",
       "    }\n",
       "\n",
       "    .dataframe tbody tr th {\n",
       "        vertical-align: top;\n",
       "    }\n",
       "\n",
       "    .dataframe thead th {\n",
       "        text-align: right;\n",
       "    }\n",
       "</style>\n",
       "<table border=\"1\" class=\"dataframe\">\n",
       "  <thead>\n",
       "    <tr style=\"text-align: right;\">\n",
       "      <th></th>\n",
       "      <th>MW</th>\n",
       "      <th>LogP</th>\n",
       "      <th>NumHDonors</th>\n",
       "      <th>NumHAcceptors</th>\n",
       "      <th>NumHDonors_per_MW</th>\n",
       "      <th>NumHAcceptors_per_MW</th>\n",
       "    </tr>\n",
       "  </thead>\n",
       "  <tbody>\n",
       "    <tr>\n",
       "      <th>0</th>\n",
       "      <td>312.325</td>\n",
       "      <td>2.8032</td>\n",
       "      <td>0.0</td>\n",
       "      <td>6.0</td>\n",
       "      <td>0.000000</td>\n",
       "      <td>0.019211</td>\n",
       "    </tr>\n",
       "    <tr>\n",
       "      <th>7</th>\n",
       "      <td>408.955</td>\n",
       "      <td>4.5712</td>\n",
       "      <td>0.0</td>\n",
       "      <td>6.0</td>\n",
       "      <td>0.000000</td>\n",
       "      <td>0.014672</td>\n",
       "    </tr>\n",
       "    <tr>\n",
       "      <th>4217</th>\n",
       "      <td>509.647</td>\n",
       "      <td>4.0432</td>\n",
       "      <td>2.0</td>\n",
       "      <td>6.0</td>\n",
       "      <td>0.003924</td>\n",
       "      <td>0.011773</td>\n",
       "    </tr>\n",
       "    <tr>\n",
       "      <th>1009</th>\n",
       "      <td>267.373</td>\n",
       "      <td>0.5515</td>\n",
       "      <td>0.0</td>\n",
       "      <td>3.0</td>\n",
       "      <td>0.000000</td>\n",
       "      <td>0.011220</td>\n",
       "    </tr>\n",
       "    <tr>\n",
       "      <th>826</th>\n",
       "      <td>257.333</td>\n",
       "      <td>3.1902</td>\n",
       "      <td>0.0</td>\n",
       "      <td>2.0</td>\n",
       "      <td>0.000000</td>\n",
       "      <td>0.007772</td>\n",
       "    </tr>\n",
       "    <tr>\n",
       "      <th>...</th>\n",
       "      <td>...</td>\n",
       "      <td>...</td>\n",
       "      <td>...</td>\n",
       "      <td>...</td>\n",
       "      <td>...</td>\n",
       "      <td>...</td>\n",
       "    </tr>\n",
       "    <tr>\n",
       "      <th>3647</th>\n",
       "      <td>351.858</td>\n",
       "      <td>5.7120</td>\n",
       "      <td>0.0</td>\n",
       "      <td>2.0</td>\n",
       "      <td>0.000000</td>\n",
       "      <td>0.005684</td>\n",
       "    </tr>\n",
       "    <tr>\n",
       "      <th>1786</th>\n",
       "      <td>460.530</td>\n",
       "      <td>4.9554</td>\n",
       "      <td>1.0</td>\n",
       "      <td>6.0</td>\n",
       "      <td>0.002171</td>\n",
       "      <td>0.013028</td>\n",
       "    </tr>\n",
       "    <tr>\n",
       "      <th>3515</th>\n",
       "      <td>454.563</td>\n",
       "      <td>4.3373</td>\n",
       "      <td>2.0</td>\n",
       "      <td>6.0</td>\n",
       "      <td>0.004400</td>\n",
       "      <td>0.013199</td>\n",
       "    </tr>\n",
       "    <tr>\n",
       "      <th>1223</th>\n",
       "      <td>387.479</td>\n",
       "      <td>5.2372</td>\n",
       "      <td>0.0</td>\n",
       "      <td>4.0</td>\n",
       "      <td>0.000000</td>\n",
       "      <td>0.010323</td>\n",
       "    </tr>\n",
       "    <tr>\n",
       "      <th>4184</th>\n",
       "      <td>460.359</td>\n",
       "      <td>1.3905</td>\n",
       "      <td>1.0</td>\n",
       "      <td>2.0</td>\n",
       "      <td>0.002172</td>\n",
       "      <td>0.004344</td>\n",
       "    </tr>\n",
       "  </tbody>\n",
       "</table>\n",
       "<p>939 rows × 6 columns</p>\n",
       "</div>"
      ],
      "text/plain": [
       "           MW    LogP  NumHDonors  NumHAcceptors  NumHDonors_per_MW  \\\n",
       "0     312.325  2.8032         0.0            6.0           0.000000   \n",
       "7     408.955  4.5712         0.0            6.0           0.000000   \n",
       "4217  509.647  4.0432         2.0            6.0           0.003924   \n",
       "1009  267.373  0.5515         0.0            3.0           0.000000   \n",
       "826   257.333  3.1902         0.0            2.0           0.000000   \n",
       "...       ...     ...         ...            ...                ...   \n",
       "3647  351.858  5.7120         0.0            2.0           0.000000   \n",
       "1786  460.530  4.9554         1.0            6.0           0.002171   \n",
       "3515  454.563  4.3373         2.0            6.0           0.004400   \n",
       "1223  387.479  5.2372         0.0            4.0           0.000000   \n",
       "4184  460.359  1.3905         1.0            2.0           0.002172   \n",
       "\n",
       "      NumHAcceptors_per_MW  \n",
       "0                 0.019211  \n",
       "7                 0.014672  \n",
       "4217              0.011773  \n",
       "1009              0.011220  \n",
       "826               0.007772  \n",
       "...                    ...  \n",
       "3647              0.005684  \n",
       "1786              0.013028  \n",
       "3515              0.013199  \n",
       "1223              0.010323  \n",
       "4184              0.004344  \n",
       "\n",
       "[939 rows x 6 columns]"
      ]
     },
     "execution_count": 26,
     "metadata": {},
     "output_type": "execute_result"
    }
   ],
   "source": [
    "attr_adder = CombinedAttributesAdder(add_NumHDonors_per_MW=True)\n",
    "X_test_extra = attr_adder.transform(X_test.values)\n",
    "\n",
    "X_test_extra = pd.DataFrame(\n",
    "    X_test_extra,\n",
    "    columns=list(X_test.columns) + ['NumHDonors_per_MW', 'NumHAcceptors_per_MW'], index=X_test.index)\n",
    "X_test_extra"
   ]
  },
  {
   "cell_type": "code",
   "execution_count": 27,
   "id": "92ccaa7a",
   "metadata": {},
   "outputs": [],
   "source": [
    "X_train = lipinski_extra_attribs.copy()\n",
    "X_test = X_test_extra.copy()"
   ]
  },
  {
   "cell_type": "code",
   "execution_count": 28,
   "id": "8d454a95",
   "metadata": {},
   "outputs": [],
   "source": [
    "from sklearn.model_selection import cross_val_score\n",
    "\n",
    "y_train_pred = cross_val_score(grid_search_randForest, X_train, y_train, cv=3, scoring='accuracy')"
   ]
  },
  {
   "cell_type": "code",
   "execution_count": 29,
   "id": "9b818616",
   "metadata": {},
   "outputs": [
    {
     "data": {
      "text/plain": [
       "array([0.55351438, 0.5471246 , 0.55830671])"
      ]
     },
     "execution_count": 29,
     "metadata": {},
     "output_type": "execute_result"
    }
   ],
   "source": [
    "y_train_pred"
   ]
  },
  {
   "cell_type": "markdown",
   "id": "19259963",
   "metadata": {},
   "source": [
    "<h4>KNN Classifier</h4>"
   ]
  },
  {
   "cell_type": "code",
   "execution_count": 30,
   "id": "030fb12a",
   "metadata": {},
   "outputs": [
    {
     "data": {
      "text/plain": [
       "array([0.46565495, 0.45926518, 0.46964856])"
      ]
     },
     "execution_count": 30,
     "metadata": {},
     "output_type": "execute_result"
    }
   ],
   "source": [
    "from sklearn.neighbors import KNeighborsClassifier\n",
    "\n",
    "# param_grid = [\n",
    "#    {'weights': ['uniform', 'distance'], 'n_neighbors': [3, 4, 5, 7, 10, 15]}\n",
    "# ]\n",
    "\n",
    "knn_clf = KNeighborsClassifier(n_neighbors=3)\n",
    "cross_val_score(knn_clf, X_train, y_train, cv=3, scoring='accuracy')"
   ]
  },
  {
   "cell_type": "markdown",
   "id": "3ab76975",
   "metadata": {},
   "source": [
    "<h4>SGD Classifier</h4>"
   ]
  },
  {
   "cell_type": "code",
   "execution_count": 31,
   "id": "0c9a9ccd",
   "metadata": {},
   "outputs": [
    {
     "data": {
      "text/plain": [
       "array([0.44009585, 0.2571885 , 0.45447284])"
      ]
     },
     "execution_count": 31,
     "metadata": {},
     "output_type": "execute_result"
    }
   ],
   "source": [
    "from sklearn.linear_model import SGDClassifier\n",
    "\n",
    "sgd_clf = SGDClassifier(random_state=42)\n",
    "cross_val_score(sgd_clf, X_train, y_train, cv=3, scoring='accuracy')"
   ]
  },
  {
   "cell_type": "markdown",
   "id": "39f5d90c",
   "metadata": {},
   "source": [
    "<h4>Gradient Boosting Classifier</h4>"
   ]
  },
  {
   "cell_type": "code",
   "execution_count": 32,
   "id": "b6c2636c",
   "metadata": {},
   "outputs": [
    {
     "data": {
      "text/plain": [
       "array([0.52635783, 0.52476038, 0.55271565])"
      ]
     },
     "execution_count": 32,
     "metadata": {},
     "output_type": "execute_result"
    }
   ],
   "source": [
    "from sklearn.ensemble import GradientBoostingClassifier\n",
    "\n",
    "gb_clf = GradientBoostingClassifier(random_state=42)\n",
    "cross_val_score(gb_clf, X_train, y_train, cv=3, scoring='accuracy')"
   ]
  },
  {
   "cell_type": "markdown",
   "id": "c0a14d8e",
   "metadata": {},
   "source": [
    "<h4>Decision Tree Classifier</h4>"
   ]
  },
  {
   "cell_type": "code",
   "execution_count": 33,
   "id": "fa4693ea",
   "metadata": {},
   "outputs": [
    {
     "data": {
      "text/plain": [
       "array([0.52795527, 0.53194888, 0.52236422])"
      ]
     },
     "execution_count": 33,
     "metadata": {},
     "output_type": "execute_result"
    }
   ],
   "source": [
    "from sklearn.tree import DecisionTreeClassifier\n",
    "tree_clf = DecisionTreeClassifier(random_state=42)\n",
    "cross_val_score(tree_clf, X_train, y_train, cv=3, scoring='accuracy')"
   ]
  },
  {
   "cell_type": "markdown",
   "id": "5fc4e6b8",
   "metadata": {},
   "source": [
    "The accuracy scores for the above classifier models are very low. It is hard to say it performs any better than a random classifier. <br>\n",
    "Let's do feature scaling."
   ]
  },
  {
   "cell_type": "markdown",
   "id": "f220e445",
   "metadata": {},
   "source": [
    "<h3>Standardization</h3>"
   ]
  },
  {
   "cell_type": "code",
   "execution_count": 34,
   "id": "f99bde83",
   "metadata": {},
   "outputs": [
    {
     "data": {
      "text/plain": [
       "array([0.54392971, 0.5471246 , 0.56549521])"
      ]
     },
     "execution_count": 34,
     "metadata": {},
     "output_type": "execute_result"
    }
   ],
   "source": [
    "# remove outliers\n",
    "from sklearn.preprocessing import StandardScaler\n",
    "\n",
    "scaler = StandardScaler()\n",
    "X_train_scaled = scaler.fit_transform(X_train)\n",
    "cross_val_score(grid_search_randForest, X_train_scaled, y_train, cv=3, scoring='accuracy')"
   ]
  },
  {
   "cell_type": "markdown",
   "id": "93dd40d4",
   "metadata": {},
   "source": [
    "Still, the result is not great. The next thing we can do is to simplify the problem. <br>\n",
    "So far, we have dealt with multi classification problem. There are three classes; inactive, intermediate and active. Let's make the problem classify an input as either active or inactive."
   ]
  },
  {
   "cell_type": "markdown",
   "id": "536f6aee",
   "metadata": {},
   "source": [
    "<h2>Binary-class Classfication</h2>"
   ]
  },
  {
   "cell_type": "markdown",
   "id": "394f4ce5",
   "metadata": {},
   "source": [
    "<h3>Simplify the Problem: Exclude 'intermediate' labeled data</h3>"
   ]
  },
  {
   "cell_type": "code",
   "execution_count": 35,
   "id": "574183a1",
   "metadata": {},
   "outputs": [
    {
     "data": {
      "text/html": [
       "<div>\n",
       "<style scoped>\n",
       "    .dataframe tbody tr th:only-of-type {\n",
       "        vertical-align: middle;\n",
       "    }\n",
       "\n",
       "    .dataframe tbody tr th {\n",
       "        vertical-align: top;\n",
       "    }\n",
       "\n",
       "    .dataframe thead th {\n",
       "        text-align: right;\n",
       "    }\n",
       "</style>\n",
       "<table border=\"1\" class=\"dataframe\">\n",
       "  <thead>\n",
       "    <tr style=\"text-align: right;\">\n",
       "      <th></th>\n",
       "      <th>molecule_chembl_id</th>\n",
       "      <th>canonical_smiles</th>\n",
       "      <th>standard_value</th>\n",
       "      <th>class</th>\n",
       "      <th>MW</th>\n",
       "      <th>LogP</th>\n",
       "      <th>NumHDonors</th>\n",
       "      <th>NumHAcceptors</th>\n",
       "    </tr>\n",
       "  </thead>\n",
       "  <tbody>\n",
       "    <tr>\n",
       "      <th>0</th>\n",
       "      <td>CHEMBL133897</td>\n",
       "      <td>CCOc1nn(-c2cccc(OCc3ccccc3)c2)c(=O)o1</td>\n",
       "      <td>750.0</td>\n",
       "      <td>active</td>\n",
       "      <td>312.325</td>\n",
       "      <td>2.8032</td>\n",
       "      <td>0.0</td>\n",
       "      <td>6.0</td>\n",
       "    </tr>\n",
       "    <tr>\n",
       "      <th>1</th>\n",
       "      <td>CHEMBL336398</td>\n",
       "      <td>O=C(N1CCCCC1)n1nc(-c2ccc(Cl)cc2)nc1SCC1CC1</td>\n",
       "      <td>100.0</td>\n",
       "      <td>active</td>\n",
       "      <td>376.913</td>\n",
       "      <td>4.5546</td>\n",
       "      <td>0.0</td>\n",
       "      <td>5.0</td>\n",
       "    </tr>\n",
       "    <tr>\n",
       "      <th>2</th>\n",
       "      <td>CHEMBL131588</td>\n",
       "      <td>CN(C(=O)n1nc(-c2ccc(Cl)cc2)nc1SCC(F)(F)F)c1ccccc1</td>\n",
       "      <td>50000.0</td>\n",
       "      <td>inactive</td>\n",
       "      <td>426.851</td>\n",
       "      <td>5.3574</td>\n",
       "      <td>0.0</td>\n",
       "      <td>5.0</td>\n",
       "    </tr>\n",
       "    <tr>\n",
       "      <th>3</th>\n",
       "      <td>CHEMBL130628</td>\n",
       "      <td>O=C(N1CCCCC1)n1nc(-c2ccc(Cl)cc2)nc1SCC(F)(F)F</td>\n",
       "      <td>300.0</td>\n",
       "      <td>active</td>\n",
       "      <td>404.845</td>\n",
       "      <td>4.7069</td>\n",
       "      <td>0.0</td>\n",
       "      <td>5.0</td>\n",
       "    </tr>\n",
       "    <tr>\n",
       "      <th>4</th>\n",
       "      <td>CHEMBL130478</td>\n",
       "      <td>CSc1nc(-c2ccc(OC(F)(F)F)cc2)nn1C(=O)N(C)C</td>\n",
       "      <td>800.0</td>\n",
       "      <td>active</td>\n",
       "      <td>346.334</td>\n",
       "      <td>3.0953</td>\n",
       "      <td>0.0</td>\n",
       "      <td>6.0</td>\n",
       "    </tr>\n",
       "    <tr>\n",
       "      <th>...</th>\n",
       "      <td>...</td>\n",
       "      <td>...</td>\n",
       "      <td>...</td>\n",
       "      <td>...</td>\n",
       "      <td>...</td>\n",
       "      <td>...</td>\n",
       "      <td>...</td>\n",
       "      <td>...</td>\n",
       "    </tr>\n",
       "    <tr>\n",
       "      <th>4675</th>\n",
       "      <td>CHEMBL4284261</td>\n",
       "      <td>CCN(C)Cc1cc(N)ccc1O.Cl.Cl</td>\n",
       "      <td>965100.0</td>\n",
       "      <td>inactive</td>\n",
       "      <td>253.173</td>\n",
       "      <td>2.2697</td>\n",
       "      <td>2.0</td>\n",
       "      <td>3.0</td>\n",
       "    </tr>\n",
       "    <tr>\n",
       "      <th>4676</th>\n",
       "      <td>CHEMBL4276921</td>\n",
       "      <td>CN(C)Cc1cc(N)ccc1O.Cl.Cl</td>\n",
       "      <td>1536500.0</td>\n",
       "      <td>inactive</td>\n",
       "      <td>239.146</td>\n",
       "      <td>1.8796</td>\n",
       "      <td>2.0</td>\n",
       "      <td>3.0</td>\n",
       "    </tr>\n",
       "    <tr>\n",
       "      <th>4677</th>\n",
       "      <td>CHEMBL4292574</td>\n",
       "      <td>CNCc1cc(N)ccc1O.Cl.Cl</td>\n",
       "      <td>333500.0</td>\n",
       "      <td>inactive</td>\n",
       "      <td>225.119</td>\n",
       "      <td>1.5374</td>\n",
       "      <td>3.0</td>\n",
       "      <td>3.0</td>\n",
       "    </tr>\n",
       "    <tr>\n",
       "      <th>4685</th>\n",
       "      <td>CHEMBL4292766</td>\n",
       "      <td>CC(C)(C)c1cc(/C=C/C(=O)NCCC2CCN(Cc3ccccc3F)CC2...</td>\n",
       "      <td>750.0</td>\n",
       "      <td>active</td>\n",
       "      <td>494.695</td>\n",
       "      <td>6.5580</td>\n",
       "      <td>2.0</td>\n",
       "      <td>3.0</td>\n",
       "    </tr>\n",
       "    <tr>\n",
       "      <th>4687</th>\n",
       "      <td>CHEMBL4284475</td>\n",
       "      <td>CC(C)(C)c1cc(/C=C/C(=O)NCCC2CCN(Cc3ccc(F)cc3)C...</td>\n",
       "      <td>980.0</td>\n",
       "      <td>active</td>\n",
       "      <td>494.695</td>\n",
       "      <td>6.5580</td>\n",
       "      <td>2.0</td>\n",
       "      <td>3.0</td>\n",
       "    </tr>\n",
       "  </tbody>\n",
       "</table>\n",
       "<p>3549 rows × 8 columns</p>\n",
       "</div>"
      ],
      "text/plain": [
       "     molecule_chembl_id                                   canonical_smiles  \\\n",
       "0          CHEMBL133897              CCOc1nn(-c2cccc(OCc3ccccc3)c2)c(=O)o1   \n",
       "1          CHEMBL336398         O=C(N1CCCCC1)n1nc(-c2ccc(Cl)cc2)nc1SCC1CC1   \n",
       "2          CHEMBL131588  CN(C(=O)n1nc(-c2ccc(Cl)cc2)nc1SCC(F)(F)F)c1ccccc1   \n",
       "3          CHEMBL130628      O=C(N1CCCCC1)n1nc(-c2ccc(Cl)cc2)nc1SCC(F)(F)F   \n",
       "4          CHEMBL130478          CSc1nc(-c2ccc(OC(F)(F)F)cc2)nn1C(=O)N(C)C   \n",
       "...                 ...                                                ...   \n",
       "4675      CHEMBL4284261                          CCN(C)Cc1cc(N)ccc1O.Cl.Cl   \n",
       "4676      CHEMBL4276921                           CN(C)Cc1cc(N)ccc1O.Cl.Cl   \n",
       "4677      CHEMBL4292574                              CNCc1cc(N)ccc1O.Cl.Cl   \n",
       "4685      CHEMBL4292766  CC(C)(C)c1cc(/C=C/C(=O)NCCC2CCN(Cc3ccccc3F)CC2...   \n",
       "4687      CHEMBL4284475  CC(C)(C)c1cc(/C=C/C(=O)NCCC2CCN(Cc3ccc(F)cc3)C...   \n",
       "\n",
       "      standard_value     class       MW    LogP  NumHDonors  NumHAcceptors  \n",
       "0              750.0    active  312.325  2.8032         0.0            6.0  \n",
       "1              100.0    active  376.913  4.5546         0.0            5.0  \n",
       "2            50000.0  inactive  426.851  5.3574         0.0            5.0  \n",
       "3              300.0    active  404.845  4.7069         0.0            5.0  \n",
       "4              800.0    active  346.334  3.0953         0.0            6.0  \n",
       "...              ...       ...      ...     ...         ...            ...  \n",
       "4675        965100.0  inactive  253.173  2.2697         2.0            3.0  \n",
       "4676       1536500.0  inactive  239.146  1.8796         2.0            3.0  \n",
       "4677        333500.0  inactive  225.119  1.5374         3.0            3.0  \n",
       "4685           750.0    active  494.695  6.5580         2.0            3.0  \n",
       "4687           980.0    active  494.695  6.5580         2.0            3.0  \n",
       "\n",
       "[3549 rows x 8 columns]"
      ]
     },
     "execution_count": 35,
     "metadata": {},
     "output_type": "execute_result"
    }
   ],
   "source": [
    "lipinski_2class = df_combined[df_combined['class'] != 'intermediate']\n",
    "lipinski_2class.to_csv('acetylcholinesterase_bioactivity_data_2class.csv', index=None)\n",
    "lipinski_2class"
   ]
  },
  {
   "cell_type": "code",
   "execution_count": 36,
   "id": "c3100f45",
   "metadata": {},
   "outputs": [],
   "source": [
    "import seaborn as sns\n",
    "sns.set(style='ticks')\n",
    "import matplotlib.pyplot as plt"
   ]
  },
  {
   "cell_type": "code",
   "execution_count": 38,
   "id": "0fd4c308",
   "metadata": {},
   "outputs": [
    {
     "data": {
      "text/plain": [
       "Text(0, 0.5, 'Frequency')"
      ]
     },
     "execution_count": 38,
     "metadata": {},
     "output_type": "execute_result"
    },
    {
     "data": {
      "image/png": "[encoded data removed]",
      "text/plain": [
       "<Figure size 396x396 with 1 Axes>"
      ]
     },
     "metadata": {},
     "output_type": "display_data"
    }
   ],
   "source": [
    "plt.figure(figsize=(5.5, 5.5))\n",
    "\n",
    "sns.countplot(x='class', data=lipinski_2class, edgecolor='black')\n",
    "\n",
    "plt.xlabel('Bioactivity class', fontsize=14, fontweight='bold')\n",
    "plt.ylabel('Frequency', fontsize=14, fontweight='bold')\n",
    "\n",
    "# plt.savefig('plot_bioactivity_class.pdf')"
   ]
  },
  {
   "cell_type": "code",
   "execution_count": 40,
   "id": "66286056",
   "metadata": {},
   "outputs": [
    {
     "data": {
      "image/png": "[encoded data removed]",
      "text/plain": [
       "<Figure size 396x396 with 1 Axes>"
      ]
     },
     "metadata": {},
     "output_type": "display_data"
    }
   ],
   "source": [
    "plt.figure(figsize=(5.5, 5.5))\n",
    "\n",
    "sns.scatterplot(x='MW', y='LogP', data=lipinski_2class, hue='class', edgecolor='black', alpha=0.7)\n",
    "\n",
    "plt.xlabel('MW', fontsize=14, fontweight='bold')\n",
    "plt.ylabel('LogP', fontsize=14, fontweight='bold')\n",
    "plt.legend(bbox_to_anchor=(1.05, 1), loc=2, borderaxespad=0)\n",
    "plt.savefig('plot_MW_vs_LogP.pdf')"
   ]
  },
  {
   "cell_type": "markdown",
   "id": "8576cecf",
   "metadata": {},
   "source": [
    "<h3>Mann-Whitney U Test</h3>"
   ]
  },
  {
   "cell_type": "markdown",
   "id": "0ac42e35",
   "metadata": {},
   "source": [
    "To check if a feature has a valuable information to predict the label."
   ]
  },
  {
   "cell_type": "code",
   "execution_count": 41,
   "id": "fdf225a4",
   "metadata": {},
   "outputs": [],
   "source": [
    "def mannwhitney(descriptor, verbose=False):\n",
    "  # https://machinelearningmastery.com/nonparametric-statistical-significance-tests-in-python/\n",
    "  from numpy.random import seed\n",
    "  from numpy.random import randn\n",
    "  from scipy.stats import mannwhitneyu\n",
    "\n",
    "# seed the random number generator\n",
    "  seed(1)\n",
    "\n",
    "# actives and inactives\n",
    "  selection = [descriptor, 'class']\n",
    "  df = lipinski_2class[selection]\n",
    "  active = df[df['class'] == 'active']\n",
    "  active = active[descriptor]\n",
    "\n",
    "  selection = [descriptor, 'class']\n",
    "  df = lipinski_2class[selection]\n",
    "  inactive = df[df['class'] == 'inactive']\n",
    "  inactive = inactive[descriptor]\n",
    "\n",
    "# compare samples\n",
    "  stat, p = mannwhitneyu(active, inactive)\n",
    "  #print('Statistics=%.3f, p=%.3f' % (stat, p))\n",
    "\n",
    "# interpret\n",
    "  alpha = 0.05\n",
    "  if p > alpha:\n",
    "    interpretation = 'Same distribution (fail to reject H0)'\n",
    "  else:\n",
    "    interpretation = 'Different distribution (reject H0)'\n",
    "  \n",
    "  results = pd.DataFrame({'Descriptor':descriptor,\n",
    "                          'Statistics':stat,\n",
    "                          'p':p,\n",
    "                          'alpha':alpha,\n",
    "                          'Interpretation':interpretation}, index=[0])\n",
    "  filename = 'mannwhitneyu_' + descriptor + '.csv'\n",
    "  results.to_csv(filename)\n",
    "\n",
    "  return results"
   ]
  },
  {
   "cell_type": "code",
   "execution_count": 43,
   "id": "b845c307",
   "metadata": {},
   "outputs": [
    {
     "data": {
      "text/plain": [
       "Text(0, 0.5, 'MW')"
      ]
     },
     "execution_count": 43,
     "metadata": {},
     "output_type": "execute_result"
    },
    {
     "data": {
      "image/png": "[encoded data removed]",
      "text/plain": [
       "<Figure size 396x396 with 1 Axes>"
      ]
     },
     "metadata": {},
     "output_type": "display_data"
    }
   ],
   "source": [
    "plt.figure(figsize=(5.5, 5.5))\n",
    "\n",
    "sns.boxplot(x = 'class', y = 'MW', data = lipinski_2class)\n",
    "\n",
    "plt.xlabel('Bioactivity class', fontsize=14, fontweight='bold')\n",
    "plt.ylabel('MW', fontsize=14, fontweight='bold')\n",
    "\n",
    "# plt.savefig('plot_MW.pdf')"
   ]
  },
  {
   "cell_type": "code",
   "execution_count": 44,
   "id": "02c269bd",
   "metadata": {},
   "outputs": [
    {
     "data": {
      "text/html": [
       "<div>\n",
       "<style scoped>\n",
       "    .dataframe tbody tr th:only-of-type {\n",
       "        vertical-align: middle;\n",
       "    }\n",
       "\n",
       "    .dataframe tbody tr th {\n",
       "        vertical-align: top;\n",
       "    }\n",
       "\n",
       "    .dataframe thead th {\n",
       "        text-align: right;\n",
       "    }\n",
       "</style>\n",
       "<table border=\"1\" class=\"dataframe\">\n",
       "  <thead>\n",
       "    <tr style=\"text-align: right;\">\n",
       "      <th></th>\n",
       "      <th>Descriptor</th>\n",
       "      <th>Statistics</th>\n",
       "      <th>p</th>\n",
       "      <th>alpha</th>\n",
       "      <th>Interpretation</th>\n",
       "    </tr>\n",
       "  </thead>\n",
       "  <tbody>\n",
       "    <tr>\n",
       "      <th>0</th>\n",
       "      <td>MW</td>\n",
       "      <td>1996258.5</td>\n",
       "      <td>9.341054e-52</td>\n",
       "      <td>0.05</td>\n",
       "      <td>Different distribution (reject H0)</td>\n",
       "    </tr>\n",
       "  </tbody>\n",
       "</table>\n",
       "</div>"
      ],
      "text/plain": [
       "  Descriptor  Statistics             p  alpha  \\\n",
       "0         MW   1996258.5  9.341054e-52   0.05   \n",
       "\n",
       "                       Interpretation  \n",
       "0  Different distribution (reject H0)  "
      ]
     },
     "execution_count": 44,
     "metadata": {},
     "output_type": "execute_result"
    }
   ],
   "source": [
    "mannwhitney('MW')"
   ]
  },
  {
   "cell_type": "code",
   "execution_count": 45,
   "id": "5197f5f1",
   "metadata": {},
   "outputs": [
    {
     "data": {
      "text/plain": [
       "Text(0, 0.5, 'LogP')"
      ]
     },
     "execution_count": 45,
     "metadata": {},
     "output_type": "execute_result"
    },
    {
     "data": {
      "image/png": "[encoded data removed]",
      "text/plain": [
       "<Figure size 396x396 with 1 Axes>"
      ]
     },
     "metadata": {},
     "output_type": "display_data"
    }
   ],
   "source": [
    "plt.figure(figsize=(5.5, 5.5))\n",
    "\n",
    "sns.boxplot(x = 'class', y = 'LogP', data = lipinski_2class)\n",
    "\n",
    "plt.xlabel('Bioactivity class', fontsize=14, fontweight='bold')\n",
    "plt.ylabel('LogP', fontsize=14, fontweight='bold')\n",
    "\n",
    "#plt.savefig('plot_LogP.pdf')"
   ]
  },
  {
   "cell_type": "code",
   "execution_count": 46,
   "id": "948cba8d",
   "metadata": {},
   "outputs": [
    {
     "data": {
      "text/html": [
       "<div>\n",
       "<style scoped>\n",
       "    .dataframe tbody tr th:only-of-type {\n",
       "        vertical-align: middle;\n",
       "    }\n",
       "\n",
       "    .dataframe tbody tr th {\n",
       "        vertical-align: top;\n",
       "    }\n",
       "\n",
       "    .dataframe thead th {\n",
       "        text-align: right;\n",
       "    }\n",
       "</style>\n",
       "<table border=\"1\" class=\"dataframe\">\n",
       "  <thead>\n",
       "    <tr style=\"text-align: right;\">\n",
       "      <th></th>\n",
       "      <th>Descriptor</th>\n",
       "      <th>Statistics</th>\n",
       "      <th>p</th>\n",
       "      <th>alpha</th>\n",
       "      <th>Interpretation</th>\n",
       "    </tr>\n",
       "  </thead>\n",
       "  <tbody>\n",
       "    <tr>\n",
       "      <th>0</th>\n",
       "      <td>LogP</td>\n",
       "      <td>1939454.0</td>\n",
       "      <td>4.274959e-40</td>\n",
       "      <td>0.05</td>\n",
       "      <td>Different distribution (reject H0)</td>\n",
       "    </tr>\n",
       "  </tbody>\n",
       "</table>\n",
       "</div>"
      ],
      "text/plain": [
       "  Descriptor  Statistics             p  alpha  \\\n",
       "0       LogP   1939454.0  4.274959e-40   0.05   \n",
       "\n",
       "                       Interpretation  \n",
       "0  Different distribution (reject H0)  "
      ]
     },
     "execution_count": 46,
     "metadata": {},
     "output_type": "execute_result"
    }
   ],
   "source": [
    "mannwhitney('LogP')"
   ]
  },
  {
   "cell_type": "code",
   "execution_count": 47,
   "id": "ba109b48",
   "metadata": {},
   "outputs": [
    {
     "data": {
      "text/plain": [
       "Text(0, 0.5, 'NumHDonors')"
      ]
     },
     "execution_count": 47,
     "metadata": {},
     "output_type": "execute_result"
    },
    {
     "data": {
      "image/png": "[encoded data removed]",
      "text/plain": [
       "<Figure size 396x396 with 1 Axes>"
      ]
     },
     "metadata": {},
     "output_type": "display_data"
    }
   ],
   "source": [
    "plt.figure(figsize=(5.5, 5.5))\n",
    "\n",
    "sns.boxplot(x = 'class', y = 'NumHDonors', data = lipinski_2class)\n",
    "\n",
    "plt.xlabel('Bioactivity class', fontsize=14, fontweight='bold')\n",
    "plt.ylabel('NumHDonors', fontsize=14, fontweight='bold')\n",
    "\n",
    "# plt.savefig('plot_NumHDonors.pdf')"
   ]
  },
  {
   "cell_type": "code",
   "execution_count": 48,
   "id": "73702f6b",
   "metadata": {},
   "outputs": [
    {
     "data": {
      "text/html": [
       "<div>\n",
       "<style scoped>\n",
       "    .dataframe tbody tr th:only-of-type {\n",
       "        vertical-align: middle;\n",
       "    }\n",
       "\n",
       "    .dataframe tbody tr th {\n",
       "        vertical-align: top;\n",
       "    }\n",
       "\n",
       "    .dataframe thead th {\n",
       "        text-align: right;\n",
       "    }\n",
       "</style>\n",
       "<table border=\"1\" class=\"dataframe\">\n",
       "  <thead>\n",
       "    <tr style=\"text-align: right;\">\n",
       "      <th></th>\n",
       "      <th>Descriptor</th>\n",
       "      <th>Statistics</th>\n",
       "      <th>p</th>\n",
       "      <th>alpha</th>\n",
       "      <th>Interpretation</th>\n",
       "    </tr>\n",
       "  </thead>\n",
       "  <tbody>\n",
       "    <tr>\n",
       "      <th>0</th>\n",
       "      <td>NumHDonors</td>\n",
       "      <td>1727167.5</td>\n",
       "      <td>6.331271e-11</td>\n",
       "      <td>0.05</td>\n",
       "      <td>Different distribution (reject H0)</td>\n",
       "    </tr>\n",
       "  </tbody>\n",
       "</table>\n",
       "</div>"
      ],
      "text/plain": [
       "   Descriptor  Statistics             p  alpha  \\\n",
       "0  NumHDonors   1727167.5  6.331271e-11   0.05   \n",
       "\n",
       "                       Interpretation  \n",
       "0  Different distribution (reject H0)  "
      ]
     },
     "execution_count": 48,
     "metadata": {},
     "output_type": "execute_result"
    }
   ],
   "source": [
    "mannwhitney('NumHDonors')"
   ]
  },
  {
   "cell_type": "code",
   "execution_count": 49,
   "id": "d670811e",
   "metadata": {},
   "outputs": [
    {
     "data": {
      "image/png": "[encoded data removed]",
      "text/plain": [
       "<Figure size 396x396 with 1 Axes>"
      ]
     },
     "metadata": {},
     "output_type": "display_data"
    }
   ],
   "source": [
    "plt.figure(figsize=(5.5, 5.5))\n",
    "\n",
    "sns.boxplot(x = 'class', y = 'NumHAcceptors', data = lipinski_2class)\n",
    "\n",
    "plt.xlabel('Bioactivity class', fontsize=14, fontweight='bold')\n",
    "plt.ylabel('NumHAcceptors', fontsize=14, fontweight='bold')\n",
    "\n",
    "plt.savefig('plot_NumHAcceptors.pdf')"
   ]
  },
  {
   "cell_type": "code",
   "execution_count": 50,
   "id": "ce4ac3c8",
   "metadata": {},
   "outputs": [
    {
     "data": {
      "text/html": [
       "<div>\n",
       "<style scoped>\n",
       "    .dataframe tbody tr th:only-of-type {\n",
       "        vertical-align: middle;\n",
       "    }\n",
       "\n",
       "    .dataframe tbody tr th {\n",
       "        vertical-align: top;\n",
       "    }\n",
       "\n",
       "    .dataframe thead th {\n",
       "        text-align: right;\n",
       "    }\n",
       "</style>\n",
       "<table border=\"1\" class=\"dataframe\">\n",
       "  <thead>\n",
       "    <tr style=\"text-align: right;\">\n",
       "      <th></th>\n",
       "      <th>Descriptor</th>\n",
       "      <th>Statistics</th>\n",
       "      <th>p</th>\n",
       "      <th>alpha</th>\n",
       "      <th>Interpretation</th>\n",
       "    </tr>\n",
       "  </thead>\n",
       "  <tbody>\n",
       "    <tr>\n",
       "      <th>0</th>\n",
       "      <td>NumHAcceptors</td>\n",
       "      <td>1682099.0</td>\n",
       "      <td>0.000002</td>\n",
       "      <td>0.05</td>\n",
       "      <td>Different distribution (reject H0)</td>\n",
       "    </tr>\n",
       "  </tbody>\n",
       "</table>\n",
       "</div>"
      ],
      "text/plain": [
       "      Descriptor  Statistics         p  alpha  \\\n",
       "0  NumHAcceptors   1682099.0  0.000002   0.05   \n",
       "\n",
       "                       Interpretation  \n",
       "0  Different distribution (reject H0)  "
      ]
     },
     "execution_count": 50,
     "metadata": {},
     "output_type": "execute_result"
    }
   ],
   "source": [
    "mannwhitney('NumHAcceptors')"
   ]
  },
  {
   "cell_type": "markdown",
   "id": "0de7270c",
   "metadata": {},
   "source": [
    "<h3>Another way of simplifying the problem: active? True/False<h3>"
   ]
  },
  {
   "cell_type": "code",
   "execution_count": 51,
   "id": "e18f257f",
   "metadata": {},
   "outputs": [
    {
     "data": {
      "text/plain": [
       "2314    False\n",
       "3064     True\n",
       "1824    False\n",
       "1458     True\n",
       "40      False\n",
       "        ...  \n",
       "2612    False\n",
       "3130    False\n",
       "4631    False\n",
       "2756    False\n",
       "345      True\n",
       "Name: class, Length: 3756, dtype: bool"
      ]
     },
     "execution_count": 51,
     "metadata": {},
     "output_type": "execute_result"
    }
   ],
   "source": [
    "# simplify the problem\n",
    "y_train_activate = (y_train == 1)\n",
    "y_test_activate = (y_test == 1)\n",
    "y_train_activate"
   ]
  },
  {
   "cell_type": "markdown",
   "id": "fdbc8ed9",
   "metadata": {},
   "source": [
    "<h4>KNN Classifier</h4>"
   ]
  },
  {
   "cell_type": "code",
   "execution_count": 52,
   "id": "4ae1da2b",
   "metadata": {},
   "outputs": [
    {
     "data": {
      "text/plain": [
       "array([0.6086262 , 0.58865815, 0.60702875])"
      ]
     },
     "execution_count": 52,
     "metadata": {},
     "output_type": "execute_result"
    }
   ],
   "source": [
    "knn_clf = KNeighborsClassifier(n_neighbors=3)\n",
    "cross_val_score(knn_clf, X_train, y_train_activate, cv=3)"
   ]
  },
  {
   "cell_type": "markdown",
   "id": "6740fbc5",
   "metadata": {},
   "source": [
    "<h4>SVM</h4>"
   ]
  },
  {
   "cell_type": "code",
   "execution_count": 53,
   "id": "2bb3a7af",
   "metadata": {},
   "outputs": [
    {
     "data": {
      "text/plain": [
       "array([0.59664537, 0.59185304, 0.59345048])"
      ]
     },
     "execution_count": 53,
     "metadata": {},
     "output_type": "execute_result"
    }
   ],
   "source": [
    "from sklearn.svm import SVC\n",
    "\n",
    "svm_clf = SVC(random_state=42)\n",
    "cross_val_score(svm_clf, X_train, y_train_activate, cv=3)"
   ]
  },
  {
   "cell_type": "markdown",
   "id": "690339d2",
   "metadata": {},
   "source": [
    "<h4>SGD Classifier</h4>"
   ]
  },
  {
   "cell_type": "code",
   "execution_count": 54,
   "id": "e6a189f0",
   "metadata": {},
   "outputs": [
    {
     "data": {
      "text/plain": [
       "array([0.58546326, 0.46246006, 0.4384984 ])"
      ]
     },
     "execution_count": 54,
     "metadata": {},
     "output_type": "execute_result"
    }
   ],
   "source": [
    "sgd_clf = SGDClassifier(random_state=42)\n",
    "cross_val_score(sgd_clf, X_train, y_train_activate, cv=3, scoring='accuracy')"
   ]
  },
  {
   "cell_type": "markdown",
   "id": "546c4c8a",
   "metadata": {},
   "source": [
    "<h4>Random Forest Classifier</h4>"
   ]
  },
  {
   "cell_type": "code",
   "execution_count": 55,
   "id": "2add1cb4",
   "metadata": {},
   "outputs": [],
   "source": [
    "from sklearn.model_selection import cross_val_predict\n",
    "\n",
    "randForest_clf = RandomForestClassifier(random_state=42)\n",
    "y_train_pred = cross_val_predict(randForest_clf, X_train, y_train_activate, cv=3)"
   ]
  },
  {
   "cell_type": "markdown",
   "id": "b858aec6",
   "metadata": {},
   "source": [
    "<h3>Confusion Matrix</h3>"
   ]
  },
  {
   "cell_type": "markdown",
   "id": "797c57e2",
   "metadata": {},
   "source": [
    "A better way to evaluate the performance of a classifier. It counts the number of times instaces of class A are classified as class B."
   ]
  },
  {
   "cell_type": "code",
   "execution_count": 56,
   "id": "34490285",
   "metadata": {},
   "outputs": [
    {
     "data": {
      "text/plain": [
       "array([[1616,  509],\n",
       "       [ 609, 1022]])"
      ]
     },
     "execution_count": 56,
     "metadata": {},
     "output_type": "execute_result"
    }
   ],
   "source": [
    "from sklearn.metrics import confusion_matrix\n",
    "\n",
    "confusion_matrix(y_train_activate, y_train_pred)"
   ]
  },
  {
   "cell_type": "markdown",
   "id": "57f6c2b8",
   "metadata": {},
   "source": [
    "[[true negatives, false positives], -negative class (inactive)<br>\n",
    "[false negatives, true positives]]  -positive class (active)"
   ]
  },
  {
   "attachments": {
    "image.png": {
     "image/png": "[encoded data removed]"
    }
   },
   "cell_type": "markdown",
   "id": "479c783d",
   "metadata": {},
   "source": [
    "![image.png](attachment:image.png)"
   ]
  },
  {
   "cell_type": "markdown",
   "id": "2bda2d9f",
   "metadata": {},
   "source": [
    "<h3>Precision and Recall</h3>"
   ]
  },
  {
   "cell_type": "markdown",
   "id": "f674ca1d",
   "metadata": {},
   "source": [
    "<ul>\n",
    "    <li>Precision: TP / (TP + FP)</li>\n",
    "    <li>Recall: TP / (TP + FN)</li>\n",
    "</ul>"
   ]
  },
  {
   "cell_type": "code",
   "execution_count": 57,
   "id": "bc0832b8",
   "metadata": {},
   "outputs": [
    {
     "name": "stdout",
     "output_type": "stream",
     "text": [
      "0.6675375571521881\n",
      "0.6266094420600858\n"
     ]
    }
   ],
   "source": [
    "from sklearn.metrics import precision_score, recall_score\n",
    "\n",
    "print(precision_score(y_train_activate, y_train_pred))\n",
    "print(recall_score(y_train_activate, y_train_pred))"
   ]
  },
  {
   "cell_type": "markdown",
   "id": "97335420",
   "metadata": {},
   "source": [
    "The chances are the model detects an active molecule is 66.7%. Moreover, the model only detects 62.7% of the active molecules."
   ]
  },
  {
   "cell_type": "markdown",
   "id": "29a7087e",
   "metadata": {},
   "source": [
    "<h3>F1 score</h3>"
   ]
  },
  {
   "cell_type": "markdown",
   "id": "7eeb52cd",
   "metadata": {},
   "source": [
    "F1 score is used to combine precision score and recall score together. A classifier will only get a high F1 score if both recall and precision are high. Note that F1 (harmonic mean) gives much more weight to low values."
   ]
  },
  {
   "cell_type": "code",
   "execution_count": 59,
   "id": "45339714",
   "metadata": {},
   "outputs": [
    {
     "data": {
      "text/plain": [
       "0.6464263124604681"
      ]
     },
     "execution_count": 59,
     "metadata": {},
     "output_type": "execute_result"
    }
   ],
   "source": [
    "from sklearn.metrics import f1_score\n",
    "f1_score(y_train_activate, y_train_pred)"
   ]
  },
  {
   "cell_type": "markdown",
   "id": "e2d57bff",
   "metadata": {},
   "source": [
    "<h3>The ROC Curve</h3>"
   ]
  },
  {
   "cell_type": "markdown",
   "id": "82bedf56",
   "metadata": {},
   "source": [
    "It is very similar to the precision/recall curve. However, ROC curve plots the true positive rate(=recall) versus the false positive rate(1 - the true negative rate) instead."
   ]
  },
  {
   "cell_type": "code",
   "execution_count": 64,
   "id": "2f9a4c4b",
   "metadata": {},
   "outputs": [],
   "source": [
    "forest_clf = RandomForestClassifier(random_state=42)\n",
    "y_probas_forest = cross_val_predict(forest_clf, X_train, y_train_activate, cv=3, method='predict_proba')"
   ]
  },
  {
   "cell_type": "code",
   "execution_count": 65,
   "id": "f4460741",
   "metadata": {},
   "outputs": [
    {
     "data": {
      "text/html": [
       "<div>\n",
       "<style scoped>\n",
       "    .dataframe tbody tr th:only-of-type {\n",
       "        vertical-align: middle;\n",
       "    }\n",
       "\n",
       "    .dataframe tbody tr th {\n",
       "        vertical-align: top;\n",
       "    }\n",
       "\n",
       "    .dataframe thead th {\n",
       "        text-align: right;\n",
       "    }\n",
       "</style>\n",
       "<table border=\"1\" class=\"dataframe\">\n",
       "  <thead>\n",
       "    <tr style=\"text-align: right;\">\n",
       "      <th></th>\n",
       "      <th>0</th>\n",
       "      <th>1</th>\n",
       "    </tr>\n",
       "  </thead>\n",
       "  <tbody>\n",
       "    <tr>\n",
       "      <th>0</th>\n",
       "      <td>0.750000</td>\n",
       "      <td>0.250000</td>\n",
       "    </tr>\n",
       "    <tr>\n",
       "      <th>1</th>\n",
       "      <td>0.010000</td>\n",
       "      <td>0.990000</td>\n",
       "    </tr>\n",
       "    <tr>\n",
       "      <th>2</th>\n",
       "      <td>0.930000</td>\n",
       "      <td>0.070000</td>\n",
       "    </tr>\n",
       "    <tr>\n",
       "      <th>3</th>\n",
       "      <td>0.620000</td>\n",
       "      <td>0.380000</td>\n",
       "    </tr>\n",
       "    <tr>\n",
       "      <th>4</th>\n",
       "      <td>0.595000</td>\n",
       "      <td>0.405000</td>\n",
       "    </tr>\n",
       "    <tr>\n",
       "      <th>...</th>\n",
       "      <td>...</td>\n",
       "      <td>...</td>\n",
       "    </tr>\n",
       "    <tr>\n",
       "      <th>3751</th>\n",
       "      <td>0.820833</td>\n",
       "      <td>0.179167</td>\n",
       "    </tr>\n",
       "    <tr>\n",
       "      <th>3752</th>\n",
       "      <td>0.950000</td>\n",
       "      <td>0.050000</td>\n",
       "    </tr>\n",
       "    <tr>\n",
       "      <th>3753</th>\n",
       "      <td>0.910000</td>\n",
       "      <td>0.090000</td>\n",
       "    </tr>\n",
       "    <tr>\n",
       "      <th>3754</th>\n",
       "      <td>0.700000</td>\n",
       "      <td>0.300000</td>\n",
       "    </tr>\n",
       "    <tr>\n",
       "      <th>3755</th>\n",
       "      <td>0.050000</td>\n",
       "      <td>0.950000</td>\n",
       "    </tr>\n",
       "  </tbody>\n",
       "</table>\n",
       "<p>3756 rows × 2 columns</p>\n",
       "</div>"
      ],
      "text/plain": [
       "             0         1\n",
       "0     0.750000  0.250000\n",
       "1     0.010000  0.990000\n",
       "2     0.930000  0.070000\n",
       "3     0.620000  0.380000\n",
       "4     0.595000  0.405000\n",
       "...        ...       ...\n",
       "3751  0.820833  0.179167\n",
       "3752  0.950000  0.050000\n",
       "3753  0.910000  0.090000\n",
       "3754  0.700000  0.300000\n",
       "3755  0.050000  0.950000\n",
       "\n",
       "[3756 rows x 2 columns]"
      ]
     },
     "execution_count": 65,
     "metadata": {},
     "output_type": "execute_result"
    }
   ],
   "source": [
    "pd.DataFrame(y_probas_forest)"
   ]
  },
  {
   "cell_type": "code",
   "execution_count": 70,
   "id": "026b5dde",
   "metadata": {},
   "outputs": [],
   "source": [
    "from sklearn.metrics import roc_curve\n",
    "\n",
    "y_scores_forest = y_probas_forest[:, 1] # scores = probability of positive class\n",
    "fpr_forest, tpr_forest, thresholds_forest = roc_curve(y_train_activate, y_scores_forest)"
   ]
  },
  {
   "cell_type": "code",
   "execution_count": 71,
   "id": "36275a9e",
   "metadata": {},
   "outputs": [],
   "source": [
    "def plot_roc_curve(fpr, tpr, label=None):\n",
    "    plt.plot(fpr, tpr, linewidth=2, label=label)\n",
    "    plt.plot([0, 1], [0, 1], 'k--')\n",
    "    plt.grid(True)\n",
    "    plt.xlabel('False Positive Rate', fontsize=16)\n",
    "    plt.ylabel('True Positive Rate(recall)', fontsize=16)\n",
    "    plt.axis([0, 1, 0, 1])\n",
    "    \n",
    "# plot_roc_curve(fpr, tpr, label=\"Random Forest\")\n",
    "# plt.show()"
   ]
  },
  {
   "cell_type": "code",
   "execution_count": 72,
   "id": "030e1191",
   "metadata": {},
   "outputs": [
    {
     "data": {
      "image/png": "[encoded data removed]",
      "text/plain": [
       "<Figure size 432x288 with 1 Axes>"
      ]
     },
     "metadata": {},
     "output_type": "display_data"
    }
   ],
   "source": [
    "plot_roc_curve(fpr_forest, tpr_forest, label='Random Forest')\n",
    "plt.legend(loc='lower right')\n",
    "plt.show()"
   ]
  },
  {
   "cell_type": "markdown",
   "id": "ef139490",
   "metadata": {},
   "source": [
    "A good classifier stays as far away from the diagonal line as possible.\n",
    "This model does not look so good."
   ]
  },
  {
   "cell_type": "markdown",
   "id": "160563b3",
   "metadata": {},
   "source": [
    "<h4>ROC AUC</h4>"
   ]
  },
  {
   "cell_type": "markdown",
   "id": "4c5c4095",
   "metadata": {},
   "source": [
    "The area under the ROC curve. A good model has a high score (close to 1)."
   ]
  },
  {
   "cell_type": "code",
   "execution_count": 73,
   "id": "0a7f05f9",
   "metadata": {},
   "outputs": [
    {
     "data": {
      "text/plain": [
       "0.7619971868575757"
      ]
     },
     "execution_count": 73,
     "metadata": {},
     "output_type": "execute_result"
    }
   ],
   "source": [
    "from sklearn.metrics import roc_auc_score\n",
    "\n",
    "roc_auc_score(y_train_activate, y_scores_forest)"
   ]
  },
  {
   "cell_type": "markdown",
   "id": "a32ac8a2",
   "metadata": {},
   "source": [
    "<h4>KNN Classifier</h4>"
   ]
  },
  {
   "cell_type": "code",
   "execution_count": 74,
   "id": "9d5103d8",
   "metadata": {},
   "outputs": [
    {
     "data": {
      "text/plain": [
       "GridSearchCV(cv=5, estimator=KNeighborsClassifier(),\n",
       "             param_grid=[{'n_neighbors': [3, 4, 5, 7, 10, 15],\n",
       "                          'weights': ['uniform', 'distance']}],\n",
       "             return_train_score=True, scoring='neg_mean_squared_error')"
      ]
     },
     "execution_count": 74,
     "metadata": {},
     "output_type": "execute_result"
    }
   ],
   "source": [
    "from sklearn.neighbors import KNeighborsClassifier\n",
    "\n",
    "param_grid = [\n",
    "   {'weights': ['uniform', 'distance'], 'n_neighbors': [3, 4, 5, 7, 10, 15]}\n",
    "]\n",
    "\n",
    "knn_clf = KNeighborsClassifier()\n",
    "grid_search = GridSearchCV(knn_clf, param_grid, cv=5,\n",
    "                          scoring='neg_mean_squared_error',\n",
    "                          return_train_score=True)\n",
    "grid_search.fit(X_train, y_train)"
   ]
  },
  {
   "cell_type": "code",
   "execution_count": 75,
   "id": "81417d88",
   "metadata": {},
   "outputs": [
    {
     "data": {
      "text/plain": [
       "{'n_neighbors': 15, 'weights': 'distance'}"
      ]
     },
     "execution_count": 75,
     "metadata": {},
     "output_type": "execute_result"
    }
   ],
   "source": [
    "grid_search.best_params_"
   ]
  },
  {
   "cell_type": "code",
   "execution_count": 76,
   "id": "75eb79cd",
   "metadata": {},
   "outputs": [
    {
     "name": "stdout",
     "output_type": "stream",
     "text": [
      "1.1243309922728648 {'n_neighbors': 3, 'weights': 'uniform'}\n",
      "1.0512737186027086 {'n_neighbors': 3, 'weights': 'distance'}\n",
      "1.0910412433552177 {'n_neighbors': 4, 'weights': 'uniform'}\n",
      "1.0427535527681675 {'n_neighbors': 4, 'weights': 'distance'}\n",
      "1.098579215442733 {'n_neighbors': 5, 'weights': 'uniform'}\n",
      "1.0358353414130135 {'n_neighbors': 5, 'weights': 'distance'}\n",
      "1.099061843187314 {'n_neighbors': 7, 'weights': 'uniform'}\n",
      "1.0396824506868152 {'n_neighbors': 7, 'weights': 'distance'}\n",
      "1.1008713810189334 {'n_neighbors': 10, 'weights': 'uniform'}\n",
      "1.0227677366356513 {'n_neighbors': 10, 'weights': 'distance'}\n",
      "1.1052215055406773 {'n_neighbors': 15, 'weights': 'uniform'}\n",
      "1.0201626640221058 {'n_neighbors': 15, 'weights': 'distance'}\n"
     ]
    }
   ],
   "source": [
    "cvres = grid_search.cv_results_\n",
    "for mean_score, params in zip(cvres['mean_test_score'], cvres['params']):\n",
    "    print(np.sqrt(-mean_score), params)"
   ]
  },
  {
   "cell_type": "markdown",
   "id": "0d76fa12",
   "metadata": {},
   "source": [
    "<h4>SGD Classifier</h4>"
   ]
  },
  {
   "cell_type": "code",
   "execution_count": 77,
   "id": "1709fd0f",
   "metadata": {},
   "outputs": [],
   "source": [
    "from sklearn.linear_model import SGDClassifier\n",
    "\n",
    "sgd_clf = SGDClassifier(random_state=42)\n",
    "y_scores_sgd = cross_val_predict(sgd_clf, X_train, y_train_activate, cv=3, method='decision_function')"
   ]
  },
  {
   "cell_type": "code",
   "execution_count": 78,
   "id": "b176f4f8",
   "metadata": {},
   "outputs": [
    {
     "data": {
      "image/png": "[encoded data removed]",
      "text/plain": [
       "<Figure size 432x288 with 1 Axes>"
      ]
     },
     "metadata": {},
     "output_type": "display_data"
    }
   ],
   "source": [
    "fpr_sgd, tpr_sgd, thresholds_sgd = roc_curve(y_train_activate, y_scores_sgd)\n",
    "y_probas_knn = cross_val_predict(knn_clf, X_train, y_train_activate, cv=3, method='predict_proba')\n",
    "y_scores_knn = y_probas_knn[:, 1]\n",
    "fpr_knn, tpr_knn, thresholds_knn = roc_curve(y_train_activate, y_scores_knn)\n",
    "\n",
    "plot_roc_curve(fpr_forest, tpr_forest, label='Random Forest')\n",
    "plot_roc_curve(fpr_sgd, tpr_sgd, label='SGD')\n",
    "plot_roc_curve(fpr_knn, tpr_knn, label='KNN')\n",
    "plt.legend(loc='lower right')\n",
    "plt.show()"
   ]
  },
  {
   "cell_type": "markdown",
   "id": "27f63b60",
   "metadata": {},
   "source": [
    "<h2>Train and Test the Model</h2>"
   ]
  },
  {
   "cell_type": "markdown",
   "id": "d70caf6b",
   "metadata": {},
   "source": [
    "<h4>Random Forest Classifier</h4>"
   ]
  },
  {
   "cell_type": "code",
   "execution_count": 80,
   "id": "513260c0",
   "metadata": {},
   "outputs": [
    {
     "data": {
      "text/plain": [
       "RandomForestClassifier(random_state=42)"
      ]
     },
     "execution_count": 80,
     "metadata": {},
     "output_type": "execute_result"
    }
   ],
   "source": [
    "forest_clf.fit(X_train, y_train_activate)"
   ]
  },
  {
   "cell_type": "markdown",
   "id": "285ccb82",
   "metadata": {},
   "source": [
    "<h3>Evaluate the model</h3>"
   ]
  },
  {
   "cell_type": "code",
   "execution_count": 81,
   "id": "0914ec1c",
   "metadata": {},
   "outputs": [
    {
     "name": "stdout",
     "output_type": "stream",
     "text": [
      "0.6675461741424802\n",
      "0.6200980392156863\n"
     ]
    }
   ],
   "source": [
    "y_pred = forest_clf.predict(X_test)\n",
    "print(precision_score(y_test_activate, y_pred))\n",
    "print(recall_score(y_test_activate, y_pred))"
   ]
  },
  {
   "cell_type": "code",
   "execution_count": 82,
   "id": "deca5c52",
   "metadata": {},
   "outputs": [
    {
     "data": {
      "text/plain": [
       "0.6429479034307497"
      ]
     },
     "execution_count": 82,
     "metadata": {},
     "output_type": "execute_result"
    }
   ],
   "source": [
    "f1_score(y_test_activate, y_pred)"
   ]
  },
  {
   "cell_type": "markdown",
   "id": "e2c7f73f",
   "metadata": {},
   "source": [
    "<h2>Error Analysis</h2>"
   ]
  },
  {
   "cell_type": "markdown",
   "id": "df994ff0",
   "metadata": {},
   "source": [
    "1) The prediciton of the random forest classifier is not accurate. <br>\n",
    "<i>\" Because all parameters can be easily computed, the Pfizer rule (or its variants) has become the most widely applied filter in virtual library design today. However, ... In fact, the Pfizer rule by itself appears to be a rather ineffective discriminator between drugs and non-drugs. Frimurer et al showed that using the above criteria, only 66% of the compounds in the MDL Drug Data Report (MDDR) database, ... were classified as drug-like \"</i>\n",
    "<br>\n",
    "Madame Curie Bioscience Database by Gisbert Schneider [NCBI](https://www.ncbi.nlm.nih.gov/books/NBK6404/)"
   ]
  },
  {
   "cell_type": "markdown",
   "id": "1654a77a",
   "metadata": {},
   "source": [
    "2) It seems that the model is underfitting. To predict how drug like a molecule is, we need more features."
   ]
  },
  {
   "cell_type": "markdown",
   "id": "25e2fd42",
   "metadata": {},
   "source": [
    "<h2>Next Tasks</h2>"
   ]
  },
  {
   "cell_type": "markdown",
   "id": "5d83aa87",
   "metadata": {},
   "source": [
    "<ol>\n",
    "    <li>Add more features: number of Rotatable bonds, logS and number of Aromatic rings</li>\n",
    "    <li>Predict logS</li>\n",
    "    <li>Analysis the importance of each feature and the correlation between the drug-likeness and features</li>\n",
    "</ol>"
   ]
  },
  {
   "cell_type": "markdown",
   "id": "436c515f",
   "metadata": {},
   "source": [
    "<h2>References</h2>"
   ]
  },
  {
   "cell_type": "markdown",
   "id": "2c3b0ad4",
   "metadata": {},
   "source": [
    "<ul>\n",
    "    <li>https://github.com/dataprofessor/bioinformatics_freecodecamp</li>\n",
    "    <li>https://www.oreilly.com/library/view/hands-on-machine-learning/9781492032632/</li>\n",
    "    <li>https://www.ncbi.nlm.nih.gov/books/NBK6404/</li>\n",
    "</ul>"
   ]
  }
 ],
 "metadata": {
  "kernelspec": {
   "display_name": "Python 3 (ipykernel)",
   "language": "python",
   "name": "python3"
  },
  "language_info": {
   "codemirror_mode": {
    "name": "ipython",
    "version": 3
   },
   "file_extension": ".py",
   "mimetype": "text/x-python",
   "name": "python",
   "nbconvert_exporter": "python",
   "pygments_lexer": "ipython3",
   "version": "3.9.7"
  }
 },
 "nbformat": 4,
 "nbformat_minor": 5
}
